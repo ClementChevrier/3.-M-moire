{
 "cells": [
  {
   "cell_type": "markdown",
   "metadata": {},
   "source": [
    "# Calibration Local Vol"
   ]
  },
  {
   "cell_type": "markdown",
   "metadata": {},
   "source": [
    "Source : https://www.youtube.com/watch?v=tQFo8FE3jnE"
   ]
  },
  {
   "cell_type": "markdown",
   "metadata": {},
   "source": [
    "On sait que ma dynamique sous black and scholes est $S_t = uS_t + \\sigma S_t dW_t$\n",
    "Avec un vol local ma dyamique est $dS_t = uS_t + \\sigma(t,S_t) S_t dW_t$  \n",
    "Comment intégrer ce modèle en MC ?"
   ]
  },
  {
   "cell_type": "markdown",
   "metadata": {},
   "source": [
    "Pour bien comprends la vol local, il faut tout d'abord faire la disctinction entre ma nap de vol implicite et ma vol local. ma nap de vol implicite est observable sur le marché et est valable uniquement à cette date là. Lorsque je difuse mon spot avec MC un question ce pose: comment sélectionner la vol à chaque pas. La réponse est la vol local."
   ]
  },
  {
   "cell_type": "markdown",
   "metadata": {},
   "source": [
    "La formule de dupire afin d'obtenir la vol local est la suivante :\n",
    "\n",
    "$\\huge \\sigma^2(T,K) = \\frac{\\frac{\\partial C^u_{K,T}}{\\partial T}-rC^u_{K,T}+\\frac{\\partial rC^u_{K,T}}{\\partial K}}{\\frac{1}{2} K^2 \\frac{\\partial C^u_{K,T}}{\\partial K^2}}$\n",
    "\n",
    "si on supose que $r = 0$ alors on obtient\n",
    "\n",
    "$\\huge \\sigma^2(T,K) = \\frac{\\frac{\\partial C^u_{K,T}}{\\partial T}}{\\frac{1}{2} K^2 \\frac{\\partial C^u_{K,T}}{\\partial K^2}}$"
   ]
  },
  {
   "cell_type": "markdown",
   "metadata": {},
   "source": [
    "On a des prix de call pour un nombre fini de maturité et de strike. On dit que le prix d'un call $C_i,j$ correspond à un call $C(T_i,K_j)$ *(je sais c'est à l'envers mais je prefère avoir le strike en abscise et la maturité on ordonné dans mes matrices.)*\n",
    "\n",
    "Pour caluler $\\frac{\\partial C^u_{K,T}}{\\partial T}$ on peut utiliser \"finite derivative\" ce qui reviens à faire la différence entre $C_i,j$ et $C_{i,j+1}$. J'ai donc ma dérivé par rapport aux temps"
   ]
  },
  {
   "cell_type": "markdown",
   "metadata": {},
   "source": [
    "Ainsi pour $\\frac{\\partial C_{3,2}}{\\partial T}$ nous allons faire \n",
    "\n",
    "$\\huge \\frac{\\partial C_{3,2}}{\\partial T} = \\frac{C_{4,2} - C_{3,2}}{T_4 - T_3}$\n",
    "\n",
    "$\\begin{array}{c|ccccc}\n",
    " & K_{1} & K_{2} & K_{3} & K_{4} & K_{5} \\\\\n",
    "\\hline\n",
    "T_{1} & C_{1,1} & C_{1,2} & C_{1,3} & C_{1,4} & C_{1,5} \\\\\n",
    "T_{2} & C_{2,1} & C_{2,2} & C_{2,3} & C_{2,4} & C_{2,5} \\\\\n",
    "T_{3} & {C_{3,1}} & \\color{red}C_{3,2} & C_{3,3} & C_{3,4} & C_{3,5} \\\\\n",
    "T_{4} & C_{4,1} & \\color{orange}C_{4,2} & C_{4,3} & C_{4,4} & C_{4,5} \\\\\n",
    "T_{5} & C_{5,1} & C_{5,2} & C_{5,3} & C_{5,4} & C_{5,5} \\\\\n",
    "\\end{array}$\n"
   ]
  },
  {
   "cell_type": "markdown",
   "metadata": {},
   "source": [
    "Meme méthode pour $\\large \\frac{\\partial C^u_{K,T}}{\\partial K^2}$ la logique est la même que pour le gamma: on fait la différence pour $(K_i - K_{i-1}) -+ (K_i - K_{i+1})$. Je sais plus si c'est plus ou moins est flemme de réfléchir.\n",
    "\n",
    "Ainsi pour le meme points qu'avant $C_{3,2}$ je réalise la différence:\n",
    "\n",
    "$\\begin{array}{c|ccccc}\n",
    " & K_{1} & K_{2} & K_{3} & K_{4} & K_{5} \\\\\n",
    "\\hline\n",
    "T_{1} & C_{1,1} & C_{1,2} & C_{1,3} & C_{1,4} & C_{1,5} \\\\\n",
    "T_{2} & C_{2,1} & C_{2,2} & C_{2,3} & C_{2,4} & C_{2,5} \\\\\n",
    "T_{3} & \\color{orange}{C_{3,1}} & \\color{red}C_{3,2} & \\color{orange}C_{3,3} & C_{3,4} & C_{3,5} \\\\\n",
    "T_{4} & C_{4,1} & C_{4,2} & C_{4,3} & C_{4,4} & C_{4,5} \\\\\n",
    "T_{5} & C_{5,1} & C_{5,2} & C_{5,3} & C_{5,4} & C_{5,5} \\\\\n",
    "\\end{array}$\n",
    "\n",
    "\n",
    "$\\huge \\frac{\\partial C^u_{3,2}}{\\partial K^2} = \\frac{2}{K_3-K_1} \\cdot (\\frac{C_{3,3}-C_{3,2}}{K_3-K_2}-\\frac{C_{3,2}-C_{3,1}}{K_2-K_1})$\n",
    "\n",
    "si jamais $K_3 - K_2 = K_2 - K_1$ alors $\\huge = \\frac{C_{3,3} - 2C_{3,2} + C_{3,1}}{\\Delta K^2}$"
   ]
  },
  {
   "cell_type": "markdown",
   "metadata": {},
   "source": [
    "A partir de cette matrice je peux déduire une matrice de volatilité implicite. J'obtiens donc une nap de vol. Je peux faire différent check pour la vérifié comme dit à 4:50 dans la vidéo.\n",
    "\n",
    "J'importe mon module avec ma class VISurface qui me permet d'interpoler n'importe quel VI dans ma nap de vol."
   ]
  },
  {
   "cell_type": "code",
   "execution_count": 8,
   "metadata": {},
   "outputs": [
    {
     "data": {
      "text/plain": [
       "[[0.08333333333333333, 0.25, 0.5, 0.75, 1.0, 2.0, 5.0, 10.0, 30.0],\n",
       " [0.03795,\n",
       "  0.03844,\n",
       "  0.0385,\n",
       "  0.03786,\n",
       "  0.03804,\n",
       "  0.034399,\n",
       "  0.032262,\n",
       "  0.03533,\n",
       "  0.040979999999999996]]"
      ]
     },
     "execution_count": 8,
     "metadata": {},
     "output_type": "execute_result"
    }
   ],
   "source": [
    "from ModuleFinance import *\n",
    "import numpy as np\n",
    "\n",
    "Vol_origine = load_VI(r\".\\Data\\Nap_Vol_SX5E.json\")\n",
    "r = load_rate(r\".\\Data\\RateFr.json\")\n",
    "Udl = MarketData(Spot=100, Vol=Vol_origine, Taux=r, Div=0.03)\n",
    "df = pd.DataFrame(Vol_origine)**2\n",
    "for i, mat in enumerate(df.iterrows()):\n",
    "    df.iloc[i, :] = df.iloc[i, :] * (df.index[i] / 365)\n",
    "df.index = Udl.Vol.index\n",
    "df.columns = Udl.Vol.columns\n",
    "Udl.Vol = df\n",
    "Udl._Taux"
   ]
  },
  {
   "cell_type": "markdown",
   "metadata": {},
   "source": [
    "Pour la suite il est conseillé de transformé légérement sa matrice de vol afin qu'elle soit plus simple à manipuler avec Dupire. Pour celà, on passe à fwd moneyness au lieu de spot (je suis en spot moneyness il me semble et flemme de changer) et on passe la volatilité en \"total variance\": ***Il multiplie la Variance par T la ou moi je ne le fait pas lors de l'interpolation linéaire (à regarder)***\n",
    "\n",
    "$w=\\sigma^2_{BS} (K,T)T$\n",
    "\n",
    "grace à cette transformation on peut transformer la formule de Dupire comme suit:\n",
    "\n",
    "$\\huge \\sigma^2 (y, T)= \\frac {\\frac{\\partial w}{\\partial T}}{1-\\frac{y}{w}\\frac{\\partial w}{\\partial y} + \\frac{1}{2}\\frac{\\partial^2 w}{\\partial y^2} + \\frac{1}{4}(\\frac{y^2}{w^2} - \\frac{1}{w} - \\frac{1}{4})(\\frac{\\partial w}{\\partial y})^2}$\n",
    "\n",
    "La formule à une forme similaire à $\\$\\Gamma$ (6min40)"
   ]
  },
  {
   "cell_type": "markdown",
   "metadata": {},
   "source": [
    "## Failed Attempt to get local variance"
   ]
  },
  {
   "cell_type": "code",
   "execution_count": 3,
   "metadata": {},
   "outputs": [
    {
     "name": "stderr",
     "output_type": "stream",
     "text": [
      "\\\\cmfrfi001\\grmactions\\People\\Chevrier\\3. Mémoire\\ModuleFinance\\helper.py:446: RuntimeWarning: invalid value encountered in scalar divide\n",
      "  x[m] = augmented_matrice[m][n] / augmented_matrice[m][m]\n"
     ]
    },
    {
     "data": {
      "text/plain": [
       "0.00022264426653040704"
      ]
     },
     "execution_count": 3,
     "metadata": {},
     "output_type": "execute_result"
    }
   ],
   "source": [
    "#récupération de la vol local selon dupire (équation ci-dessus)\n",
    "S = 100\n",
    "K = 100\n",
    "M = 365\n",
    "r = 0.05\n",
    "q = 0.02\n",
    " \n",
    "M_years = M/365\n",
    "F = S*np.exp((r-q)*M_years)\n",
    "y = np.log(K/F)\n",
    "epsilon = .01\n",
    " \n",
    "w = Udl.Vol.get_vol(M,K) * M_years\n",
    "partial_T = (Udl.Vol.get_vol((M+M*epsilon), K) - w) / (M*epsilon)\n",
    "partial_K = (Udl.Vol.get_vol(M, (K+K*epsilon)) - w) / (K*epsilon)\n",
    "partial_y = K*partial_K\n",
    "second_partial_K = (Udl.Vol.get_vol(M, (K+K*epsilon)) - 2 * w + Udl.Vol.get_vol(M, (K-K*epsilon))) / (epsilon**2)\n",
    "second_partial_y = K*partial_K + second_partial_K*(K**2)\n",
    " \n",
    "dénominateur = 1 - (y/w)*partial_y + 1/2*second_partial_y + 1/4*((y**2)/(w**2)- 1/w - 1/4) * (partial_y**2)\n",
    "\n",
    "rslt = np.sqrt(partial_T/dénominateur)\n",
    "rslt"
   ]
  },
  {
   "cell_type": "code",
   "execution_count": 4,
   "metadata": {},
   "outputs": [
    {
     "data": {
      "text/plain": [
       "0.022174511831521568"
      ]
     },
     "execution_count": 4,
     "metadata": {},
     "output_type": "execute_result"
    }
   ],
   "source": [
    "Udl.Vol.get_vol(M,K)* M_years"
   ]
  },
  {
   "cell_type": "markdown",
   "metadata": {},
   "source": [
    "https://www.worldscientific.com/doi/pdf/10.1142/9789811212772_0001\n",
    "\n",
    "$\\huge \\sigma^2 (T,K)= \\frac {\\partial _T w}{(1-\\frac{y \\cdot \\partial _y w}{2w})^2 - \\frac{(\\partial _y w)^2}{4}(\\frac {1}{w} + \\frac{1}{4}) + \\frac{\\partial ^2_y w}{2}}$    avec $\\partial _T w = \\large \\frac{\\partial w}{\\partial T}$ et $y = log(K/F), F= Se^{(r-q)T}$"
   ]
  },
  {
   "cell_type": "code",
   "execution_count": 5,
   "metadata": {},
   "outputs": [
    {
     "name": "stdout",
     "output_type": "stream",
     "text": [
      "0.0004889381951553192\n"
     ]
    },
    {
     "data": {
      "text/html": [
       "<div>\n",
       "<style scoped>\n",
       "    .dataframe tbody tr th:only-of-type {\n",
       "        vertical-align: middle;\n",
       "    }\n",
       "\n",
       "    .dataframe tbody tr th {\n",
       "        vertical-align: top;\n",
       "    }\n",
       "\n",
       "    .dataframe thead th {\n",
       "        text-align: right;\n",
       "    }\n",
       "</style>\n",
       "<table border=\"1\" class=\"dataframe\">\n",
       "  <thead>\n",
       "    <tr style=\"text-align: right;\">\n",
       "      <th></th>\n",
       "      <th>30</th>\n",
       "      <th>40</th>\n",
       "      <th>50</th>\n",
       "      <th>65</th>\n",
       "      <th>80</th>\n",
       "      <th>90</th>\n",
       "      <th>100</th>\n",
       "      <th>120</th>\n",
       "      <th>150</th>\n",
       "      <th>200</th>\n",
       "    </tr>\n",
       "  </thead>\n",
       "  <tbody>\n",
       "    <tr>\n",
       "      <th>30</th>\n",
       "      <td>0.047629</td>\n",
       "      <td>0.047629</td>\n",
       "      <td>0.037558</td>\n",
       "      <td>0.021468</td>\n",
       "      <td>0.009084</td>\n",
       "      <td>0.003643</td>\n",
       "      <td>0.001049</td>\n",
       "      <td>0.002462</td>\n",
       "      <td>0.008649</td>\n",
       "      <td>0.010813</td>\n",
       "    </tr>\n",
       "    <tr>\n",
       "      <th>90</th>\n",
       "      <td>0.086902</td>\n",
       "      <td>0.082339</td>\n",
       "      <td>0.059676</td>\n",
       "      <td>0.033541</td>\n",
       "      <td>0.015048</td>\n",
       "      <td>0.007352</td>\n",
       "      <td>0.003594</td>\n",
       "      <td>0.003961</td>\n",
       "      <td>0.008989</td>\n",
       "      <td>0.018840</td>\n",
       "    </tr>\n",
       "    <tr>\n",
       "      <th>180</th>\n",
       "      <td>0.149210</td>\n",
       "      <td>0.112290</td>\n",
       "      <td>0.082181</td>\n",
       "      <td>0.048255</td>\n",
       "      <td>0.024902</td>\n",
       "      <td>0.014703</td>\n",
       "      <td>0.008741</td>\n",
       "      <td>0.006955</td>\n",
       "      <td>0.011004</td>\n",
       "      <td>0.023088</td>\n",
       "    </tr>\n",
       "    <tr>\n",
       "      <th>365</th>\n",
       "      <td>0.212885</td>\n",
       "      <td>0.159374</td>\n",
       "      <td>0.118458</td>\n",
       "      <td>0.074603</td>\n",
       "      <td>0.045023</td>\n",
       "      <td>0.031426</td>\n",
       "      <td>0.022175</td>\n",
       "      <td>0.015742</td>\n",
       "      <td>0.017895</td>\n",
       "      <td>0.025947</td>\n",
       "    </tr>\n",
       "    <tr>\n",
       "      <th>730</th>\n",
       "      <td>0.297803</td>\n",
       "      <td>0.226273</td>\n",
       "      <td>0.173193</td>\n",
       "      <td>0.117127</td>\n",
       "      <td>0.079580</td>\n",
       "      <td>0.062155</td>\n",
       "      <td>0.049587</td>\n",
       "      <td>0.037655</td>\n",
       "      <td>0.035690</td>\n",
       "      <td>0.042053</td>\n",
       "    </tr>\n",
       "    <tr>\n",
       "      <th>1095</th>\n",
       "      <td>0.383999</td>\n",
       "      <td>0.298562</td>\n",
       "      <td>0.233683</td>\n",
       "      <td>0.162771</td>\n",
       "      <td>0.115287</td>\n",
       "      <td>0.093656</td>\n",
       "      <td>0.077979</td>\n",
       "      <td>0.061867</td>\n",
       "      <td>0.057406</td>\n",
       "      <td>0.063267</td>\n",
       "    </tr>\n",
       "    <tr>\n",
       "      <th>1460</th>\n",
       "      <td>0.477091</td>\n",
       "      <td>0.375106</td>\n",
       "      <td>0.295249</td>\n",
       "      <td>0.208033</td>\n",
       "      <td>0.150978</td>\n",
       "      <td>0.125272</td>\n",
       "      <td>0.106824</td>\n",
       "      <td>0.087144</td>\n",
       "      <td>0.080784</td>\n",
       "      <td>0.088079</td>\n",
       "    </tr>\n",
       "    <tr>\n",
       "      <th>1825</th>\n",
       "      <td>0.579827</td>\n",
       "      <td>0.454122</td>\n",
       "      <td>0.357792</td>\n",
       "      <td>0.253895</td>\n",
       "      <td>0.187199</td>\n",
       "      <td>0.157780</td>\n",
       "      <td>0.136855</td>\n",
       "      <td>0.113456</td>\n",
       "      <td>0.104591</td>\n",
       "      <td>0.111470</td>\n",
       "    </tr>\n",
       "    <tr>\n",
       "      <th>2555</th>\n",
       "      <td>0.806817</td>\n",
       "      <td>0.636220</td>\n",
       "      <td>0.506991</td>\n",
       "      <td>0.368992</td>\n",
       "      <td>0.280976</td>\n",
       "      <td>0.242275</td>\n",
       "      <td>0.215012</td>\n",
       "      <td>0.182888</td>\n",
       "      <td>0.165817</td>\n",
       "      <td>0.169483</td>\n",
       "    </tr>\n",
       "    <tr>\n",
       "      <th>3650</th>\n",
       "      <td>1.156119</td>\n",
       "      <td>0.931309</td>\n",
       "      <td>0.761465</td>\n",
       "      <td>0.580395</td>\n",
       "      <td>0.461287</td>\n",
       "      <td>0.407613</td>\n",
       "      <td>0.368888</td>\n",
       "      <td>0.321141</td>\n",
       "      <td>0.289934</td>\n",
       "      <td>0.282805</td>\n",
       "    </tr>\n",
       "  </tbody>\n",
       "</table>\n",
       "</div>"
      ],
      "text/plain": [
       "<ModuleFinance.finfunc.VISurface at 0x22bb4212a70>"
      ]
     },
     "execution_count": 5,
     "metadata": {},
     "output_type": "execute_result"
    }
   ],
   "source": [
    "S = 100\n",
    "K = 100\n",
    "M = 30\n",
    "r = 0.05\n",
    " \n",
    "T = M/365\n",
    "F = S*np.exp(r*T)\n",
    "y = np.log(K/F)\n",
    "\n",
    "\n",
    "w = Udl.Vol.get_vol(M,K) * T\n",
    "finite_derivatives_T = (Udl.Vol.get_vol(90, K)*(90/365) - w) / (60/365)\n",
    "finite_derivatives_K = (Udl.Vol.get_vol(M, 120)*T - w) / (20)\n",
    "second_finite_derivatives_K = (Udl.Vol.get_vol(M, 120)*T - 2 * w + Udl.Vol.get_vol(M, 80)*T) / (40**2)\n",
    "\n",
    "#first partial deriviatives y\n",
    "partial_y = T * (F*np.exp(y)) * finite_derivatives_K\n",
    "\n",
    "#second partial derivative y\n",
    "factor1 = T*F\n",
    "first_part_factor2 = np.exp(y)*finite_derivatives_K\n",
    "second_part_factor2 = np.exp(y)*second_finite_derivatives_K\n",
    "second_partial_y = factor1 * (first_part_factor2+second_part_factor2)\n",
    "\n",
    "#first partial derivative T\n",
    "temp = T*S*np.exp(r*T + y)\n",
    "term_arrobase = finite_derivatives_K*temp + finite_derivatives_T\n",
    "partial_T = w + term_arrobase * T\n",
    " \n",
    "dénominateur = (1 - (y*partial_y)/(2*w))**2 - ((partial_y**2)/4) * ((1/w) + (1/4)) + second_partial_y/2\n",
    "rslt =partial_T/dénominateur\n",
    "print(rslt)\n",
    "Udl.Vol"
   ]
  },
  {
   "cell_type": "code",
   "execution_count": 6,
   "metadata": {},
   "outputs": [
    {
     "name": "stdout",
     "output_type": "stream",
     "text": [
      "1.3090101441737595e-05\n"
     ]
    },
    {
     "data": {
      "text/html": [
       "<div>\n",
       "<style scoped>\n",
       "    .dataframe tbody tr th:only-of-type {\n",
       "        vertical-align: middle;\n",
       "    }\n",
       "\n",
       "    .dataframe tbody tr th {\n",
       "        vertical-align: top;\n",
       "    }\n",
       "\n",
       "    .dataframe thead th {\n",
       "        text-align: right;\n",
       "    }\n",
       "</style>\n",
       "<table border=\"1\" class=\"dataframe\">\n",
       "  <thead>\n",
       "    <tr style=\"text-align: right;\">\n",
       "      <th></th>\n",
       "      <th>30</th>\n",
       "      <th>40</th>\n",
       "      <th>50</th>\n",
       "      <th>65</th>\n",
       "      <th>80</th>\n",
       "      <th>90</th>\n",
       "      <th>100</th>\n",
       "      <th>120</th>\n",
       "      <th>150</th>\n",
       "      <th>200</th>\n",
       "    </tr>\n",
       "  </thead>\n",
       "  <tbody>\n",
       "    <tr>\n",
       "      <th>30</th>\n",
       "      <td>0.047629</td>\n",
       "      <td>0.047629</td>\n",
       "      <td>0.037558</td>\n",
       "      <td>0.021468</td>\n",
       "      <td>0.009084</td>\n",
       "      <td>0.003643</td>\n",
       "      <td>0.001049</td>\n",
       "      <td>0.002462</td>\n",
       "      <td>0.008649</td>\n",
       "      <td>0.010813</td>\n",
       "    </tr>\n",
       "    <tr>\n",
       "      <th>90</th>\n",
       "      <td>0.086902</td>\n",
       "      <td>0.082339</td>\n",
       "      <td>0.059676</td>\n",
       "      <td>0.033541</td>\n",
       "      <td>0.015048</td>\n",
       "      <td>0.007352</td>\n",
       "      <td>0.003594</td>\n",
       "      <td>0.003961</td>\n",
       "      <td>0.008989</td>\n",
       "      <td>0.018840</td>\n",
       "    </tr>\n",
       "    <tr>\n",
       "      <th>180</th>\n",
       "      <td>0.149210</td>\n",
       "      <td>0.112290</td>\n",
       "      <td>0.082181</td>\n",
       "      <td>0.048255</td>\n",
       "      <td>0.024902</td>\n",
       "      <td>0.014703</td>\n",
       "      <td>0.008741</td>\n",
       "      <td>0.006955</td>\n",
       "      <td>0.011004</td>\n",
       "      <td>0.023088</td>\n",
       "    </tr>\n",
       "    <tr>\n",
       "      <th>365</th>\n",
       "      <td>0.212885</td>\n",
       "      <td>0.159374</td>\n",
       "      <td>0.118458</td>\n",
       "      <td>0.074603</td>\n",
       "      <td>0.045023</td>\n",
       "      <td>0.031426</td>\n",
       "      <td>0.022175</td>\n",
       "      <td>0.015742</td>\n",
       "      <td>0.017895</td>\n",
       "      <td>0.025947</td>\n",
       "    </tr>\n",
       "    <tr>\n",
       "      <th>730</th>\n",
       "      <td>0.297803</td>\n",
       "      <td>0.226273</td>\n",
       "      <td>0.173193</td>\n",
       "      <td>0.117127</td>\n",
       "      <td>0.079580</td>\n",
       "      <td>0.062155</td>\n",
       "      <td>0.049587</td>\n",
       "      <td>0.037655</td>\n",
       "      <td>0.035690</td>\n",
       "      <td>0.042053</td>\n",
       "    </tr>\n",
       "    <tr>\n",
       "      <th>1095</th>\n",
       "      <td>0.383999</td>\n",
       "      <td>0.298562</td>\n",
       "      <td>0.233683</td>\n",
       "      <td>0.162771</td>\n",
       "      <td>0.115287</td>\n",
       "      <td>0.093656</td>\n",
       "      <td>0.077979</td>\n",
       "      <td>0.061867</td>\n",
       "      <td>0.057406</td>\n",
       "      <td>0.063267</td>\n",
       "    </tr>\n",
       "    <tr>\n",
       "      <th>1460</th>\n",
       "      <td>0.477091</td>\n",
       "      <td>0.375106</td>\n",
       "      <td>0.295249</td>\n",
       "      <td>0.208033</td>\n",
       "      <td>0.150978</td>\n",
       "      <td>0.125272</td>\n",
       "      <td>0.106824</td>\n",
       "      <td>0.087144</td>\n",
       "      <td>0.080784</td>\n",
       "      <td>0.088079</td>\n",
       "    </tr>\n",
       "    <tr>\n",
       "      <th>1825</th>\n",
       "      <td>0.579827</td>\n",
       "      <td>0.454122</td>\n",
       "      <td>0.357792</td>\n",
       "      <td>0.253895</td>\n",
       "      <td>0.187199</td>\n",
       "      <td>0.157780</td>\n",
       "      <td>0.136855</td>\n",
       "      <td>0.113456</td>\n",
       "      <td>0.104591</td>\n",
       "      <td>0.111470</td>\n",
       "    </tr>\n",
       "    <tr>\n",
       "      <th>2555</th>\n",
       "      <td>0.806817</td>\n",
       "      <td>0.636220</td>\n",
       "      <td>0.506991</td>\n",
       "      <td>0.368992</td>\n",
       "      <td>0.280976</td>\n",
       "      <td>0.242275</td>\n",
       "      <td>0.215012</td>\n",
       "      <td>0.182888</td>\n",
       "      <td>0.165817</td>\n",
       "      <td>0.169483</td>\n",
       "    </tr>\n",
       "    <tr>\n",
       "      <th>3650</th>\n",
       "      <td>1.156119</td>\n",
       "      <td>0.931309</td>\n",
       "      <td>0.761465</td>\n",
       "      <td>0.580395</td>\n",
       "      <td>0.461287</td>\n",
       "      <td>0.407613</td>\n",
       "      <td>0.368888</td>\n",
       "      <td>0.321141</td>\n",
       "      <td>0.289934</td>\n",
       "      <td>0.282805</td>\n",
       "    </tr>\n",
       "  </tbody>\n",
       "</table>\n",
       "</div>"
      ],
      "text/plain": [
       "<ModuleFinance.finfunc.VISurface at 0x22bb4212a70>"
      ]
     },
     "execution_count": 6,
     "metadata": {},
     "output_type": "execute_result"
    }
   ],
   "source": [
    "#récupération de la vol local selon dupire (équation ci-dessus)\n",
    "S = 100\n",
    "K = 100\n",
    "M = 30\n",
    "r = 0.05\n",
    "q = 0.02\n",
    " \n",
    "M_years = M/365\n",
    "F = S*np.exp((r-q)*M_years)\n",
    "y = np.log(K/F)\n",
    "# epsilon = .01 on drop epislon car il ne faut que utiliser des points connus.\n",
    " \n",
    "w = Udl.Vol.get_vol(M,K) * M_years\n",
    "partial_T = (Udl.Vol.get_vol(90, K)*(90/365) - w) / (60)\n",
    "partial_K = (Udl.Vol.get_vol(M, 120)*M_years - w) / (20)\n",
    "partial_y = K * partial_K\n",
    "second_partial_K = (Udl.Vol.get_vol(M, 120)*M_years - 2 * w + Udl.Vol.get_vol(M, 80)*M_years) / (40**2)\n",
    "second_partial_y = K*partial_K + second_partial_K*(K**2)\n",
    " \n",
    "dénominateur = (1 - (y*partial_y)/(2*w))**2 - (((partial_y)**2)/4) * ((1/w) + (1/4)) + second_partial_y/2\n",
    "rslt =partial_T/dénominateur\n",
    "print(rslt)\n",
    "Udl.Vol"
   ]
  },
  {
   "cell_type": "code",
   "execution_count": 7,
   "metadata": {},
   "outputs": [
    {
     "name": "stdout",
     "output_type": "stream",
     "text": [
      "100.24687958947796 8.619703098154249e-05 1.3331316938519423e-05 0.0005809884501163627 0.005435048489340356\n"
     ]
    }
   ],
   "source": [
    "print(F, w, partial_T, partial_y, second_partial_y)"
   ]
  },
  {
   "cell_type": "markdown",
   "metadata": {},
   "source": [
    "## Correct Attempt"
   ]
  },
  {
   "cell_type": "markdown",
   "metadata": {},
   "source": [
    "D'après internet:\n",
    "- https://financetrainingcourse.com/education/2014/05/implied-and-local-volatility-surfaces-in-excel-final-steps/\n",
    "- https://medium.com/@add.mailme/local-volatility-v-s-implied-volatility-with-practical-example-of-spx-1fc985c3ab29  \n",
    "On peut aussi écrire la formule comme suit:\n",
    "$$\\sigma_L^2(K,T) = \\frac{\\sigma^2 + 2\\sigma T(\\frac{\\partial\\sigma}{\\partial T} + (r-q)K\\frac{\\partial\\sigma}{\\partial K})}{(1+Kd\\frac{\\partial\\sigma}{\\partial K}\\sqrt{T})^2 + \\sigma K^2T((\\frac{\\partial^2\\sigma}{\\partial K^2}-d\\frac{\\partial\\sigma}{\\partial K})^2)\\sqrt{T}}$$\n",
    "$$Avec: d=\\frac{ln(S/K)+(r+\\frac{\\sigma^2}{2})T}{\\sigma\\sqrt{T}}$$"
   ]
  },
  {
   "cell_type": "code",
   "execution_count": 8,
   "metadata": {},
   "outputs": [
    {
     "data": {
      "text/html": [
       "<div>\n",
       "<style scoped>\n",
       "    .dataframe tbody tr th:only-of-type {\n",
       "        vertical-align: middle;\n",
       "    }\n",
       "\n",
       "    .dataframe tbody tr th {\n",
       "        vertical-align: top;\n",
       "    }\n",
       "\n",
       "    .dataframe thead th {\n",
       "        text-align: right;\n",
       "    }\n",
       "</style>\n",
       "<table border=\"1\" class=\"dataframe\">\n",
       "  <thead>\n",
       "    <tr style=\"text-align: right;\">\n",
       "      <th></th>\n",
       "      <th>30</th>\n",
       "      <th>40</th>\n",
       "      <th>50</th>\n",
       "      <th>65</th>\n",
       "      <th>80</th>\n",
       "      <th>90</th>\n",
       "      <th>100</th>\n",
       "      <th>120</th>\n",
       "      <th>150</th>\n",
       "      <th>200</th>\n",
       "    </tr>\n",
       "  </thead>\n",
       "  <tbody>\n",
       "    <tr>\n",
       "      <th>30</th>\n",
       "      <td>0.761244</td>\n",
       "      <td>0.761244</td>\n",
       "      <td>0.675985</td>\n",
       "      <td>0.511070</td>\n",
       "      <td>0.332453</td>\n",
       "      <td>0.210529</td>\n",
       "      <td>0.112958</td>\n",
       "      <td>0.173090</td>\n",
       "      <td>0.324390</td>\n",
       "      <td>0.362706</td>\n",
       "    </tr>\n",
       "    <tr>\n",
       "      <th>90</th>\n",
       "      <td>0.593664</td>\n",
       "      <td>0.577868</td>\n",
       "      <td>0.491955</td>\n",
       "      <td>0.368819</td>\n",
       "      <td>0.247037</td>\n",
       "      <td>0.172674</td>\n",
       "      <td>0.120722</td>\n",
       "      <td>0.126750</td>\n",
       "      <td>0.190933</td>\n",
       "      <td>0.276417</td>\n",
       "    </tr>\n",
       "    <tr>\n",
       "      <th>180</th>\n",
       "      <td>0.550059</td>\n",
       "      <td>0.477178</td>\n",
       "      <td>0.408221</td>\n",
       "      <td>0.312810</td>\n",
       "      <td>0.224714</td>\n",
       "      <td>0.172668</td>\n",
       "      <td>0.133132</td>\n",
       "      <td>0.118757</td>\n",
       "      <td>0.149377</td>\n",
       "      <td>0.216371</td>\n",
       "    </tr>\n",
       "    <tr>\n",
       "      <th>365</th>\n",
       "      <td>0.461395</td>\n",
       "      <td>0.399217</td>\n",
       "      <td>0.344178</td>\n",
       "      <td>0.273135</td>\n",
       "      <td>0.212187</td>\n",
       "      <td>0.177275</td>\n",
       "      <td>0.148911</td>\n",
       "      <td>0.125466</td>\n",
       "      <td>0.133774</td>\n",
       "      <td>0.161080</td>\n",
       "    </tr>\n",
       "    <tr>\n",
       "      <th>730</th>\n",
       "      <td>0.385877</td>\n",
       "      <td>0.336358</td>\n",
       "      <td>0.294272</td>\n",
       "      <td>0.241999</td>\n",
       "      <td>0.199474</td>\n",
       "      <td>0.176289</td>\n",
       "      <td>0.157459</td>\n",
       "      <td>0.137213</td>\n",
       "      <td>0.133585</td>\n",
       "      <td>0.145006</td>\n",
       "    </tr>\n",
       "    <tr>\n",
       "      <th>1095</th>\n",
       "      <td>0.357771</td>\n",
       "      <td>0.315469</td>\n",
       "      <td>0.279095</td>\n",
       "      <td>0.232932</td>\n",
       "      <td>0.196034</td>\n",
       "      <td>0.176688</td>\n",
       "      <td>0.161224</td>\n",
       "      <td>0.143605</td>\n",
       "      <td>0.138330</td>\n",
       "      <td>0.145220</td>\n",
       "    </tr>\n",
       "    <tr>\n",
       "      <th>1460</th>\n",
       "      <td>0.345359</td>\n",
       "      <td>0.306229</td>\n",
       "      <td>0.271684</td>\n",
       "      <td>0.228053</td>\n",
       "      <td>0.194280</td>\n",
       "      <td>0.176969</td>\n",
       "      <td>0.163420</td>\n",
       "      <td>0.147600</td>\n",
       "      <td>0.142113</td>\n",
       "      <td>0.148391</td>\n",
       "    </tr>\n",
       "    <tr>\n",
       "      <th>1825</th>\n",
       "      <td>0.340537</td>\n",
       "      <td>0.301371</td>\n",
       "      <td>0.267504</td>\n",
       "      <td>0.225342</td>\n",
       "      <td>0.193494</td>\n",
       "      <td>0.177640</td>\n",
       "      <td>0.165442</td>\n",
       "      <td>0.150636</td>\n",
       "      <td>0.144631</td>\n",
       "      <td>0.149312</td>\n",
       "    </tr>\n",
       "    <tr>\n",
       "      <th>2555</th>\n",
       "      <td>0.339499</td>\n",
       "      <td>0.301477</td>\n",
       "      <td>0.269123</td>\n",
       "      <td>0.229593</td>\n",
       "      <td>0.200348</td>\n",
       "      <td>0.186040</td>\n",
       "      <td>0.175260</td>\n",
       "      <td>0.161638</td>\n",
       "      <td>0.153910</td>\n",
       "      <td>0.155602</td>\n",
       "    </tr>\n",
       "    <tr>\n",
       "      <th>3650</th>\n",
       "      <td>0.340017</td>\n",
       "      <td>0.305174</td>\n",
       "      <td>0.275947</td>\n",
       "      <td>0.240914</td>\n",
       "      <td>0.214776</td>\n",
       "      <td>0.201894</td>\n",
       "      <td>0.192065</td>\n",
       "      <td>0.179204</td>\n",
       "      <td>0.170274</td>\n",
       "      <td>0.168168</td>\n",
       "    </tr>\n",
       "  </tbody>\n",
       "</table>\n",
       "</div>"
      ],
      "text/plain": [
       "<ModuleFinance.finfunc.VISurface at 0x22bd547c8b0>"
      ]
     },
     "execution_count": 8,
     "metadata": {},
     "output_type": "execute_result"
    }
   ],
   "source": [
    "Vol_origine = load_VI(r\".\\Data\\Nap_Vol_SX5E.json\")\n",
    "r = load_rate(r\".\\Data\\RateFr.json\")\n",
    "Udl = MarketData(Spot=100, Vol=Vol_origine, Taux=r, Div=0.03)\n",
    "Udl.Vol"
   ]
  },
  {
   "cell_type": "code",
   "execution_count": 9,
   "metadata": {},
   "outputs": [
    {
     "data": {
      "text/plain": [
       "0.11656273886100313"
      ]
     },
     "execution_count": 9,
     "metadata": {},
     "output_type": "execute_result"
    }
   ],
   "source": [
    "M = 30\n",
    "K = 100\n",
    "T = M/365\n",
    "r = 0.05\n",
    "\n",
    "sigma = Udl.Vol.get_vol(M,K)\n",
    "d = (np.log(S/K) + ((r-q)+(sigma**2)/2)*T) / (sigma*np.sqrt(T))\n",
    "partial_T = (Udl.Vol.get_vol(90,K) - sigma) / (60/365)\n",
    "partial_K = (Udl.Vol.get_vol(M,120) - sigma) / (20)\n",
    "second_partial_K = (Udl.Vol.get_vol(M,80) - 2*sigma + Udl.Vol.get_vol(M,120)) / (40**2)\n",
    "\n",
    "numérateur= sigma**2 + 2*sigma*T*(partial_T + (r-q)*K*partial_K)\n",
    "dénominateur1 = (1+K*d*partial_K*np.sqrt(T))**2\n",
    "dénominateur2 = sigma * (K**2)*T*((second_partial_K - d*partial_K)**2)*np.sqrt(T)\n",
    "\n",
    "variance_local = numérateur / (dénominateur1+dénominateur2)\n",
    "np.sqrt(variance_local)"
   ]
  },
  {
   "cell_type": "code",
   "execution_count": 10,
   "metadata": {},
   "outputs": [
    {
     "data": {
      "text/html": [
       "<div>\n",
       "<style scoped>\n",
       "    .dataframe tbody tr th:only-of-type {\n",
       "        vertical-align: middle;\n",
       "    }\n",
       "\n",
       "    .dataframe tbody tr th {\n",
       "        vertical-align: top;\n",
       "    }\n",
       "\n",
       "    .dataframe thead th {\n",
       "        text-align: right;\n",
       "    }\n",
       "</style>\n",
       "<table border=\"1\" class=\"dataframe\">\n",
       "  <thead>\n",
       "    <tr style=\"text-align: right;\">\n",
       "      <th></th>\n",
       "      <th>30</th>\n",
       "      <th>40</th>\n",
       "      <th>50</th>\n",
       "      <th>65</th>\n",
       "      <th>80</th>\n",
       "      <th>90</th>\n",
       "      <th>100</th>\n",
       "      <th>120</th>\n",
       "      <th>150</th>\n",
       "      <th>200</th>\n",
       "    </tr>\n",
       "  </thead>\n",
       "  <tbody>\n",
       "    <tr>\n",
       "      <th>30</th>\n",
       "      <td>NaN</td>\n",
       "      <td>NaN</td>\n",
       "      <td>NaN</td>\n",
       "      <td>NaN</td>\n",
       "      <td>NaN</td>\n",
       "      <td>NaN</td>\n",
       "      <td>NaN</td>\n",
       "      <td>NaN</td>\n",
       "      <td>NaN</td>\n",
       "      <td>NaN</td>\n",
       "    </tr>\n",
       "    <tr>\n",
       "      <th>90</th>\n",
       "      <td>NaN</td>\n",
       "      <td>0.729488</td>\n",
       "      <td>0.431052</td>\n",
       "      <td>0.323877</td>\n",
       "      <td>0.217281</td>\n",
       "      <td>0.155399</td>\n",
       "      <td>0.108104</td>\n",
       "      <td>0.174654</td>\n",
       "      <td>0.199651</td>\n",
       "      <td>NaN</td>\n",
       "    </tr>\n",
       "    <tr>\n",
       "      <th>180</th>\n",
       "      <td>NaN</td>\n",
       "      <td>0.397098</td>\n",
       "      <td>0.332639</td>\n",
       "      <td>0.251844</td>\n",
       "      <td>0.176597</td>\n",
       "      <td>0.132468</td>\n",
       "      <td>0.105607</td>\n",
       "      <td>0.153266</td>\n",
       "      <td>0.153677</td>\n",
       "      <td>NaN</td>\n",
       "    </tr>\n",
       "    <tr>\n",
       "      <th>365</th>\n",
       "      <td>NaN</td>\n",
       "      <td>0.318336</td>\n",
       "      <td>0.275897</td>\n",
       "      <td>0.220481</td>\n",
       "      <td>0.170139</td>\n",
       "      <td>0.138911</td>\n",
       "      <td>0.113612</td>\n",
       "      <td>0.138141</td>\n",
       "      <td>0.143982</td>\n",
       "      <td>NaN</td>\n",
       "    </tr>\n",
       "    <tr>\n",
       "      <th>730</th>\n",
       "      <td>NaN</td>\n",
       "      <td>0.267457</td>\n",
       "      <td>0.237826</td>\n",
       "      <td>0.200506</td>\n",
       "      <td>0.170752</td>\n",
       "      <td>0.153511</td>\n",
       "      <td>0.13656</td>\n",
       "      <td>0.130938</td>\n",
       "      <td>0.14133</td>\n",
       "      <td>NaN</td>\n",
       "    </tr>\n",
       "    <tr>\n",
       "      <th>1095</th>\n",
       "      <td>NaN</td>\n",
       "      <td>0.229252</td>\n",
       "      <td>0.204566</td>\n",
       "      <td>0.176742</td>\n",
       "      <td>0.160028</td>\n",
       "      <td>0.152794</td>\n",
       "      <td>0.144978</td>\n",
       "      <td>0.139096</td>\n",
       "      <td>0.132922</td>\n",
       "      <td>NaN</td>\n",
       "    </tr>\n",
       "    <tr>\n",
       "      <th>1460</th>\n",
       "      <td>NaN</td>\n",
       "      <td>0.210441</td>\n",
       "      <td>0.189655</td>\n",
       "      <td>0.168087</td>\n",
       "      <td>0.156882</td>\n",
       "      <td>0.153343</td>\n",
       "      <td>0.148535</td>\n",
       "      <td>0.144093</td>\n",
       "      <td>0.135819</td>\n",
       "      <td>NaN</td>\n",
       "    </tr>\n",
       "    <tr>\n",
       "      <th>1825</th>\n",
       "      <td>NaN</td>\n",
       "      <td>0.195765</td>\n",
       "      <td>0.179445</td>\n",
       "      <td>0.161403</td>\n",
       "      <td>0.153898</td>\n",
       "      <td>0.152096</td>\n",
       "      <td>0.148409</td>\n",
       "      <td>0.14612</td>\n",
       "      <td>0.141969</td>\n",
       "      <td>NaN</td>\n",
       "    </tr>\n",
       "    <tr>\n",
       "      <th>2555</th>\n",
       "      <td>NaN</td>\n",
       "      <td>0.177794</td>\n",
       "      <td>0.162807</td>\n",
       "      <td>0.145891</td>\n",
       "      <td>0.138466</td>\n",
       "      <td>0.136378</td>\n",
       "      <td>0.13226</td>\n",
       "      <td>0.12695</td>\n",
       "      <td>0.129009</td>\n",
       "      <td>NaN</td>\n",
       "    </tr>\n",
       "    <tr>\n",
       "      <th>3650</th>\n",
       "      <td>NaN</td>\n",
       "      <td>0.171207</td>\n",
       "      <td>0.156374</td>\n",
       "      <td>0.13904</td>\n",
       "      <td>0.130009</td>\n",
       "      <td>0.126756</td>\n",
       "      <td>0.122689</td>\n",
       "      <td>0.116713</td>\n",
       "      <td>0.115788</td>\n",
       "      <td>NaN</td>\n",
       "    </tr>\n",
       "  </tbody>\n",
       "</table>\n",
       "</div>"
      ],
      "text/plain": [
       "       30        40        50        65        80        90       100  \\\n",
       "30    NaN       NaN       NaN       NaN       NaN       NaN       NaN   \n",
       "90    NaN  0.729488  0.431052  0.323877  0.217281  0.155399  0.108104   \n",
       "180   NaN  0.397098  0.332639  0.251844  0.176597  0.132468  0.105607   \n",
       "365   NaN  0.318336  0.275897  0.220481  0.170139  0.138911  0.113612   \n",
       "730   NaN  0.267457  0.237826  0.200506  0.170752  0.153511   0.13656   \n",
       "1095  NaN  0.229252  0.204566  0.176742  0.160028  0.152794  0.144978   \n",
       "1460  NaN  0.210441  0.189655  0.168087  0.156882  0.153343  0.148535   \n",
       "1825  NaN  0.195765  0.179445  0.161403  0.153898  0.152096  0.148409   \n",
       "2555  NaN  0.177794  0.162807  0.145891  0.138466  0.136378   0.13226   \n",
       "3650  NaN  0.171207  0.156374   0.13904  0.130009  0.126756  0.122689   \n",
       "\n",
       "           120       150  200  \n",
       "30         NaN       NaN  NaN  \n",
       "90    0.174654  0.199651  NaN  \n",
       "180   0.153266  0.153677  NaN  \n",
       "365   0.138141  0.143982  NaN  \n",
       "730   0.130938   0.14133  NaN  \n",
       "1095  0.139096  0.132922  NaN  \n",
       "1460  0.144093  0.135819  NaN  \n",
       "1825   0.14612  0.141969  NaN  \n",
       "2555   0.12695  0.129009  NaN  \n",
       "3650  0.116713  0.115788  NaN  "
      ]
     },
     "execution_count": 10,
     "metadata": {},
     "output_type": "execute_result"
    }
   ],
   "source": [
    "def _get_local_vol(Udl: MarketData):\n",
    "    df_local = pd.DataFrame(index=Udl.Vol.index, columns=Udl.Vol.columns)\n",
    "    for M in Udl.Vol.index[1:]:\n",
    "        T = M/365\n",
    "        r = Udl.get_rate(T)\n",
    "        # q = Udl.get_div(T)\n",
    "        q = 0.02\n",
    "        prev_M = Udl.Vol.index[Udl.Vol.index.get_loc(M) - 1]\n",
    "        for K in Udl.Vol.columns[1:-1]:\n",
    "            sigma = Udl.Vol.get_vol(M,K)\n",
    "            d = (np.log(S/K) + ((r-q)+(sigma**2)/2)*T) / (sigma*np.sqrt(T))\n",
    "            prev_K = Udl.Vol.columns[Udl.Vol.columns.get_loc(K) - 1]\n",
    "            next_K = Udl.Vol.columns[Udl.Vol.columns.get_loc(K) + 1]\n",
    "\n",
    "            #Différence Finit\n",
    "            partial_T = (Udl.Vol.get_vol(prev_M,K) - sigma) / ((M-prev_M)/365)\n",
    "            partial_K = (Udl.Vol.get_vol(M,prev_K) - sigma) / (K-prev_K)\n",
    "            second_partial_K = (Udl.Vol.get_vol(M,prev_K) - 2*sigma + Udl.Vol.get_vol(M,next_K)) / ((next_K-K) * (K-prev_K))\n",
    "\n",
    "            #Formule\n",
    "            numérateur= sigma**2 + 2*sigma*T*(partial_T + (r-q)*K*partial_K)\n",
    "            dénominateur1 = (1+K*d*partial_K*np.sqrt(T))**2\n",
    "            dénominateur2 = sigma * (K**2)*T*((second_partial_K - d*partial_K)**2)*np.sqrt(T)\n",
    "            df_local.loc[M,K] = np.sqrt(numérateur / (dénominateur1+dénominateur2))\n",
    "    return df_local\n",
    "vol_local = _get_local_vol(Udl)\n",
    "vol_local"
   ]
  },
  {
   "cell_type": "markdown",
   "metadata": {},
   "source": [
    "## Optimitation de ma nap de vol Local"
   ]
  },
  {
   "cell_type": "markdown",
   "metadata": {},
   "source": [
    "La méthodo réalisé pose plusieurs problème:\n",
    "- Il n'y a pas un nap de VI unique mais une quantité infini.\n",
    "- Comme je calcul la dérivite via \"finite derivative\" le moindre changement de prix change drastiquement ma dérivé\n",
    "- j'ai un nombre de prix observable unique\n",
    "- quels prix prendre celui de la cloture la moyenne des prix du jours ? le prix n'est jamais le meme et peut avoir des erreurs dedans "
   ]
  },
  {
   "cell_type": "markdown",
   "metadata": {},
   "source": [
    "Le prix du marché est noté $C^{Obs}(K_i,T_j)$  \n",
    "Le prix en vol local est noté  $C^{LV}(K_i,T_j,\\sigma(t,S))$  \n",
    "\n",
    "Ainsi on peut parfois laissé un mismatch afin d'avoir un modèle plus proche de la réalité. Ainsi:  \n",
    "$C^{Obs}(K_i,T_j) = C^{LV}(K_i,T_j,\\sigma(t,S)) + \\epsilon_{i,j}$ ou  \n",
    "$C^{Obs}_{i,j} = C^{\\sigma(t,s)}_{i,j}+ \\epsilon_{i,j}$  \n",
    "Cet écart peut venir du bid-ask, la source des datas, l'heure des datas...\n"
   ]
  },
  {
   "cell_type": "code",
   "execution_count": 11,
   "metadata": {},
   "outputs": [],
   "source": [
    "def transforme_vol_to_price(volatility_local: VISurface, volatility_bs: VISurface):\n",
    "    matrice_rlst = pd.DataFrame(index=volatility_local.index, columns=volatility_local.columns)\n",
    "    for M in volatility_local.index:\n",
    "        T = M/365\n",
    "        for K in volatility_local.columns:\n",
    "            Call = CallOption(Udl,K,T)\n",
    "            vol_local = volatility_local.loc[M,K]\n",
    "            vol_bs = volatility_bs.loc[M,K]\n",
    "\n",
    "            Udl.Vol = vol_local\n",
    "            prix_local = Call.price()\n",
    "            \n",
    "            Udl.Vol = vol_bs\n",
    "            prix_bs = Call.price()\n",
    "\n",
    "            matrice_rlst.loc[M,K] = prix_local - prix_bs\n",
    "    return matrice_rlst"
   ]
  },
  {
   "cell_type": "code",
   "execution_count": 12,
   "metadata": {},
   "outputs": [
    {
     "data": {
      "text/html": [
       "<div>\n",
       "<style scoped>\n",
       "    .dataframe tbody tr th:only-of-type {\n",
       "        vertical-align: middle;\n",
       "    }\n",
       "\n",
       "    .dataframe tbody tr th {\n",
       "        vertical-align: top;\n",
       "    }\n",
       "\n",
       "    .dataframe thead th {\n",
       "        text-align: right;\n",
       "    }\n",
       "</style>\n",
       "<table border=\"1\" class=\"dataframe\">\n",
       "  <thead>\n",
       "    <tr style=\"text-align: right;\">\n",
       "      <th></th>\n",
       "      <th>30</th>\n",
       "      <th>40</th>\n",
       "      <th>50</th>\n",
       "      <th>65</th>\n",
       "      <th>80</th>\n",
       "      <th>90</th>\n",
       "      <th>100</th>\n",
       "      <th>120</th>\n",
       "      <th>150</th>\n",
       "      <th>200</th>\n",
       "    </tr>\n",
       "  </thead>\n",
       "  <tbody>\n",
       "    <tr>\n",
       "      <th>30</th>\n",
       "      <td>NaN</td>\n",
       "      <td>NaN</td>\n",
       "      <td>NaN</td>\n",
       "      <td>NaN</td>\n",
       "      <td>NaN</td>\n",
       "      <td>NaN</td>\n",
       "      <td>NaN</td>\n",
       "      <td>NaN</td>\n",
       "      <td>NaN</td>\n",
       "      <td>NaN</td>\n",
       "    </tr>\n",
       "    <tr>\n",
       "      <th>90</th>\n",
       "      <td>NaN</td>\n",
       "      <td>0.036226</td>\n",
       "      <td>-0.008508</td>\n",
       "      <td>-0.029258</td>\n",
       "      <td>-0.074437</td>\n",
       "      <td>-0.129371</td>\n",
       "      <td>-0.24725</td>\n",
       "      <td>0.065245</td>\n",
       "      <td>0.000042</td>\n",
       "      <td>NaN</td>\n",
       "    </tr>\n",
       "    <tr>\n",
       "      <th>180</th>\n",
       "      <td>NaN</td>\n",
       "      <td>-0.015858</td>\n",
       "      <td>-0.040416</td>\n",
       "      <td>-0.117681</td>\n",
       "      <td>-0.305211</td>\n",
       "      <td>-0.592268</td>\n",
       "      <td>-0.755238</td>\n",
       "      <td>0.200957</td>\n",
       "      <td>0.00014</td>\n",
       "      <td>NaN</td>\n",
       "    </tr>\n",
       "    <tr>\n",
       "      <th>365</th>\n",
       "      <td>NaN</td>\n",
       "      <td>-0.069823</td>\n",
       "      <td>-0.137597</td>\n",
       "      <td>-0.316162</td>\n",
       "      <td>-0.65756</td>\n",
       "      <td>-1.04031</td>\n",
       "      <td>-1.354585</td>\n",
       "      <td>0.243868</td>\n",
       "      <td>0.009706</td>\n",
       "      <td>NaN</td>\n",
       "    </tr>\n",
       "    <tr>\n",
       "      <th>730</th>\n",
       "      <td>NaN</td>\n",
       "      <td>-0.198599</td>\n",
       "      <td>-0.331255</td>\n",
       "      <td>-0.594314</td>\n",
       "      <td>-0.849676</td>\n",
       "      <td>-0.96702</td>\n",
       "      <td>-1.098123</td>\n",
       "      <td>-0.264831</td>\n",
       "      <td>0.078266</td>\n",
       "      <td>NaN</td>\n",
       "    </tr>\n",
       "    <tr>\n",
       "      <th>1095</th>\n",
       "      <td>NaN</td>\n",
       "      <td>-0.436006</td>\n",
       "      <td>-0.702965</td>\n",
       "      <td>-1.15901</td>\n",
       "      <td>-1.395119</td>\n",
       "      <td>-1.24928</td>\n",
       "      <td>-1.012874</td>\n",
       "      <td>-0.26528</td>\n",
       "      <td>-0.126941</td>\n",
       "      <td>NaN</td>\n",
       "    </tr>\n",
       "    <tr>\n",
       "      <th>1460</th>\n",
       "      <td>NaN</td>\n",
       "      <td>-0.725108</td>\n",
       "      <td>-1.082333</td>\n",
       "      <td>-1.590297</td>\n",
       "      <td>-1.722291</td>\n",
       "      <td>-1.408932</td>\n",
       "      <td>-1.037998</td>\n",
       "      <td>-0.2475</td>\n",
       "      <td>-0.246393</td>\n",
       "      <td>NaN</td>\n",
       "    </tr>\n",
       "    <tr>\n",
       "      <th>1825</th>\n",
       "      <td>NaN</td>\n",
       "      <td>-1.049764</td>\n",
       "      <td>-1.464493</td>\n",
       "      <td>-2.004962</td>\n",
       "      <td>-2.046297</td>\n",
       "      <td>-1.666353</td>\n",
       "      <td>-1.285589</td>\n",
       "      <td>-0.358477</td>\n",
       "      <td>-0.143777</td>\n",
       "      <td>NaN</td>\n",
       "    </tr>\n",
       "    <tr>\n",
       "      <th>2555</th>\n",
       "      <td>NaN</td>\n",
       "      <td>-1.796596</td>\n",
       "      <td>-2.385226</td>\n",
       "      <td>-3.21178</td>\n",
       "      <td>-3.646806</td>\n",
       "      <td>-3.601798</td>\n",
       "      <td>-3.585876</td>\n",
       "      <td>-3.179078</td>\n",
       "      <td>-1.853389</td>\n",
       "      <td>NaN</td>\n",
       "    </tr>\n",
       "    <tr>\n",
       "      <th>3650</th>\n",
       "      <td>NaN</td>\n",
       "      <td>-2.723611</td>\n",
       "      <td>-3.499672</td>\n",
       "      <td>-4.648577</td>\n",
       "      <td>-5.519652</td>\n",
       "      <td>-5.862711</td>\n",
       "      <td>-6.182048</td>\n",
       "      <td>-6.376566</td>\n",
       "      <td>-5.258779</td>\n",
       "      <td>NaN</td>\n",
       "    </tr>\n",
       "  </tbody>\n",
       "</table>\n",
       "</div>"
      ],
      "text/plain": [
       "       30        40        50        65        80        90       100  \\\n",
       "30    NaN       NaN       NaN       NaN       NaN       NaN       NaN   \n",
       "90    NaN  0.036226 -0.008508 -0.029258 -0.074437 -0.129371  -0.24725   \n",
       "180   NaN -0.015858 -0.040416 -0.117681 -0.305211 -0.592268 -0.755238   \n",
       "365   NaN -0.069823 -0.137597 -0.316162  -0.65756  -1.04031 -1.354585   \n",
       "730   NaN -0.198599 -0.331255 -0.594314 -0.849676  -0.96702 -1.098123   \n",
       "1095  NaN -0.436006 -0.702965  -1.15901 -1.395119  -1.24928 -1.012874   \n",
       "1460  NaN -0.725108 -1.082333 -1.590297 -1.722291 -1.408932 -1.037998   \n",
       "1825  NaN -1.049764 -1.464493 -2.004962 -2.046297 -1.666353 -1.285589   \n",
       "2555  NaN -1.796596 -2.385226  -3.21178 -3.646806 -3.601798 -3.585876   \n",
       "3650  NaN -2.723611 -3.499672 -4.648577 -5.519652 -5.862711 -6.182048   \n",
       "\n",
       "           120       150  200  \n",
       "30         NaN       NaN  NaN  \n",
       "90    0.065245  0.000042  NaN  \n",
       "180   0.200957   0.00014  NaN  \n",
       "365   0.243868  0.009706  NaN  \n",
       "730  -0.264831  0.078266  NaN  \n",
       "1095  -0.26528 -0.126941  NaN  \n",
       "1460   -0.2475 -0.246393  NaN  \n",
       "1825 -0.358477 -0.143777  NaN  \n",
       "2555 -3.179078 -1.853389  NaN  \n",
       "3650 -6.376566 -5.258779  NaN  "
      ]
     },
     "execution_count": 12,
     "metadata": {},
     "output_type": "execute_result"
    }
   ],
   "source": [
    "#epsilon Prix\n",
    "Udl = MarketData(100,Vol_origine,load_rate(r\".\\Data\\RateFr.json\"),0.02)\n",
    "C_espsilon = transforme_vol_to_price(vol_local, Udl.Vol)\n",
    "C_espsilon"
   ]
  },
  {
   "cell_type": "code",
   "execution_count": 13,
   "metadata": {},
   "outputs": [
    {
     "data": {
      "application/vnd.plotly.v1+json": {
       "config": {
        "plotlyServerURL": "https://plot.ly"
       },
       "data": [
        {
         "type": "surface",
         "x": [
          30,
          40,
          50,
          65,
          80,
          90,
          100,
          120,
          150,
          200
         ],
         "y": [
          30,
          90,
          180,
          365,
          730,
          1095,
          1460,
          1825,
          2555,
          3650
         ],
         "z": [
          [
           null,
           null,
           null,
           null,
           null,
           null,
           null,
           null,
           null,
           null
          ],
          [
           null,
           0.0362257604964924,
           -0.008508006435661741,
           -0.029257605056059788,
           -0.07443681462351037,
           -0.12937112943322404,
           -0.2472504806005631,
           0.06524510307644577,
           0.00004164922602718497,
           null
          ],
          [
           null,
           -0.01585832629241679,
           -0.040416204943227285,
           -0.11768065153372476,
           -0.3052107652721503,
           -0.5922679971024678,
           -0.7552379149759858,
           0.2009572030132767,
           0.00014045389116505366,
           null
          ],
          [
           null,
           -0.06982310442568718,
           -0.13759737227712776,
           -0.3161623600092156,
           -0.6575601055400142,
           -1.0403104625620614,
           -1.354585156782754,
           0.24386758624175364,
           0.009706038165720743,
           null
          ],
          [
           null,
           -0.19859888489903454,
           -0.3312552955547261,
           -0.5943138752867583,
           -0.8496760944083732,
           -0.9670204298725125,
           -1.0981226997052929,
           -0.26483133625515975,
           0.0782661935711122,
           null
          ],
          [
           null,
           -0.4360063819633311,
           -0.7029651103583774,
           -1.1590102759941914,
           -1.3951190879523523,
           -1.2492804195095317,
           -1.0128739705902348,
           -0.26527988043865847,
           -0.12694134995131012,
           null
          ],
          [
           null,
           -0.7251079054051885,
           -1.0823332982623128,
           -1.5902968538173639,
           -1.7222912005433741,
           -1.408932135728385,
           -1.037998246289611,
           -0.24750011385815895,
           -0.24639308008982752,
           null
          ],
          [
           null,
           -1.0497642236919305,
           -1.4644933924130328,
           -2.004961845568026,
           -2.046297070800172,
           -1.6663525769683716,
           -1.2855885346809615,
           -0.3584773841755755,
           -0.1437774395640492,
           null
          ],
          [
           null,
           -1.7965959769174944,
           -2.3852261183202543,
           -3.2117795806022897,
           -3.64680575905232,
           -3.6017978642099777,
           -3.5858761780268154,
           -3.179077999201148,
           -1.8533892677373345,
           null
          ],
          [
           null,
           -2.7236108246615913,
           -3.499671935710758,
           -4.64857704463941,
           -5.51965185668827,
           -5.862711368793462,
           -6.182047510966612,
           -6.37656610142918,
           -5.258779311102973,
           null
          ]
         ]
        }
       ],
       "layout": {
        "template": {
         "data": {
          "bar": [
           {
            "error_x": {
             "color": "#2a3f5f"
            },
            "error_y": {
             "color": "#2a3f5f"
            },
            "marker": {
             "line": {
              "color": "#E5ECF6",
              "width": 0.5
             },
             "pattern": {
              "fillmode": "overlay",
              "size": 10,
              "solidity": 0.2
             }
            },
            "type": "bar"
           }
          ],
          "barpolar": [
           {
            "marker": {
             "line": {
              "color": "#E5ECF6",
              "width": 0.5
             },
             "pattern": {
              "fillmode": "overlay",
              "size": 10,
              "solidity": 0.2
             }
            },
            "type": "barpolar"
           }
          ],
          "carpet": [
           {
            "aaxis": {
             "endlinecolor": "#2a3f5f",
             "gridcolor": "white",
             "linecolor": "white",
             "minorgridcolor": "white",
             "startlinecolor": "#2a3f5f"
            },
            "baxis": {
             "endlinecolor": "#2a3f5f",
             "gridcolor": "white",
             "linecolor": "white",
             "minorgridcolor": "white",
             "startlinecolor": "#2a3f5f"
            },
            "type": "carpet"
           }
          ],
          "choropleth": [
           {
            "colorbar": {
             "outlinewidth": 0,
             "ticks": ""
            },
            "type": "choropleth"
           }
          ],
          "contour": [
           {
            "colorbar": {
             "outlinewidth": 0,
             "ticks": ""
            },
            "colorscale": [
             [
              0,
              "#0d0887"
             ],
             [
              0.1111111111111111,
              "#46039f"
             ],
             [
              0.2222222222222222,
              "#7201a8"
             ],
             [
              0.3333333333333333,
              "#9c179e"
             ],
             [
              0.4444444444444444,
              "#bd3786"
             ],
             [
              0.5555555555555556,
              "#d8576b"
             ],
             [
              0.6666666666666666,
              "#ed7953"
             ],
             [
              0.7777777777777778,
              "#fb9f3a"
             ],
             [
              0.8888888888888888,
              "#fdca26"
             ],
             [
              1,
              "#f0f921"
             ]
            ],
            "type": "contour"
           }
          ],
          "contourcarpet": [
           {
            "colorbar": {
             "outlinewidth": 0,
             "ticks": ""
            },
            "type": "contourcarpet"
           }
          ],
          "heatmap": [
           {
            "colorbar": {
             "outlinewidth": 0,
             "ticks": ""
            },
            "colorscale": [
             [
              0,
              "#0d0887"
             ],
             [
              0.1111111111111111,
              "#46039f"
             ],
             [
              0.2222222222222222,
              "#7201a8"
             ],
             [
              0.3333333333333333,
              "#9c179e"
             ],
             [
              0.4444444444444444,
              "#bd3786"
             ],
             [
              0.5555555555555556,
              "#d8576b"
             ],
             [
              0.6666666666666666,
              "#ed7953"
             ],
             [
              0.7777777777777778,
              "#fb9f3a"
             ],
             [
              0.8888888888888888,
              "#fdca26"
             ],
             [
              1,
              "#f0f921"
             ]
            ],
            "type": "heatmap"
           }
          ],
          "heatmapgl": [
           {
            "colorbar": {
             "outlinewidth": 0,
             "ticks": ""
            },
            "colorscale": [
             [
              0,
              "#0d0887"
             ],
             [
              0.1111111111111111,
              "#46039f"
             ],
             [
              0.2222222222222222,
              "#7201a8"
             ],
             [
              0.3333333333333333,
              "#9c179e"
             ],
             [
              0.4444444444444444,
              "#bd3786"
             ],
             [
              0.5555555555555556,
              "#d8576b"
             ],
             [
              0.6666666666666666,
              "#ed7953"
             ],
             [
              0.7777777777777778,
              "#fb9f3a"
             ],
             [
              0.8888888888888888,
              "#fdca26"
             ],
             [
              1,
              "#f0f921"
             ]
            ],
            "type": "heatmapgl"
           }
          ],
          "histogram": [
           {
            "marker": {
             "pattern": {
              "fillmode": "overlay",
              "size": 10,
              "solidity": 0.2
             }
            },
            "type": "histogram"
           }
          ],
          "histogram2d": [
           {
            "colorbar": {
             "outlinewidth": 0,
             "ticks": ""
            },
            "colorscale": [
             [
              0,
              "#0d0887"
             ],
             [
              0.1111111111111111,
              "#46039f"
             ],
             [
              0.2222222222222222,
              "#7201a8"
             ],
             [
              0.3333333333333333,
              "#9c179e"
             ],
             [
              0.4444444444444444,
              "#bd3786"
             ],
             [
              0.5555555555555556,
              "#d8576b"
             ],
             [
              0.6666666666666666,
              "#ed7953"
             ],
             [
              0.7777777777777778,
              "#fb9f3a"
             ],
             [
              0.8888888888888888,
              "#fdca26"
             ],
             [
              1,
              "#f0f921"
             ]
            ],
            "type": "histogram2d"
           }
          ],
          "histogram2dcontour": [
           {
            "colorbar": {
             "outlinewidth": 0,
             "ticks": ""
            },
            "colorscale": [
             [
              0,
              "#0d0887"
             ],
             [
              0.1111111111111111,
              "#46039f"
             ],
             [
              0.2222222222222222,
              "#7201a8"
             ],
             [
              0.3333333333333333,
              "#9c179e"
             ],
             [
              0.4444444444444444,
              "#bd3786"
             ],
             [
              0.5555555555555556,
              "#d8576b"
             ],
             [
              0.6666666666666666,
              "#ed7953"
             ],
             [
              0.7777777777777778,
              "#fb9f3a"
             ],
             [
              0.8888888888888888,
              "#fdca26"
             ],
             [
              1,
              "#f0f921"
             ]
            ],
            "type": "histogram2dcontour"
           }
          ],
          "mesh3d": [
           {
            "colorbar": {
             "outlinewidth": 0,
             "ticks": ""
            },
            "type": "mesh3d"
           }
          ],
          "parcoords": [
           {
            "line": {
             "colorbar": {
              "outlinewidth": 0,
              "ticks": ""
             }
            },
            "type": "parcoords"
           }
          ],
          "pie": [
           {
            "automargin": true,
            "type": "pie"
           }
          ],
          "scatter": [
           {
            "marker": {
             "colorbar": {
              "outlinewidth": 0,
              "ticks": ""
             }
            },
            "type": "scatter"
           }
          ],
          "scatter3d": [
           {
            "line": {
             "colorbar": {
              "outlinewidth": 0,
              "ticks": ""
             }
            },
            "marker": {
             "colorbar": {
              "outlinewidth": 0,
              "ticks": ""
             }
            },
            "type": "scatter3d"
           }
          ],
          "scattercarpet": [
           {
            "marker": {
             "colorbar": {
              "outlinewidth": 0,
              "ticks": ""
             }
            },
            "type": "scattercarpet"
           }
          ],
          "scattergeo": [
           {
            "marker": {
             "colorbar": {
              "outlinewidth": 0,
              "ticks": ""
             }
            },
            "type": "scattergeo"
           }
          ],
          "scattergl": [
           {
            "marker": {
             "colorbar": {
              "outlinewidth": 0,
              "ticks": ""
             }
            },
            "type": "scattergl"
           }
          ],
          "scattermapbox": [
           {
            "marker": {
             "colorbar": {
              "outlinewidth": 0,
              "ticks": ""
             }
            },
            "type": "scattermapbox"
           }
          ],
          "scatterpolar": [
           {
            "marker": {
             "colorbar": {
              "outlinewidth": 0,
              "ticks": ""
             }
            },
            "type": "scatterpolar"
           }
          ],
          "scatterpolargl": [
           {
            "marker": {
             "colorbar": {
              "outlinewidth": 0,
              "ticks": ""
             }
            },
            "type": "scatterpolargl"
           }
          ],
          "scatterternary": [
           {
            "marker": {
             "colorbar": {
              "outlinewidth": 0,
              "ticks": ""
             }
            },
            "type": "scatterternary"
           }
          ],
          "surface": [
           {
            "colorbar": {
             "outlinewidth": 0,
             "ticks": ""
            },
            "colorscale": [
             [
              0,
              "#0d0887"
             ],
             [
              0.1111111111111111,
              "#46039f"
             ],
             [
              0.2222222222222222,
              "#7201a8"
             ],
             [
              0.3333333333333333,
              "#9c179e"
             ],
             [
              0.4444444444444444,
              "#bd3786"
             ],
             [
              0.5555555555555556,
              "#d8576b"
             ],
             [
              0.6666666666666666,
              "#ed7953"
             ],
             [
              0.7777777777777778,
              "#fb9f3a"
             ],
             [
              0.8888888888888888,
              "#fdca26"
             ],
             [
              1,
              "#f0f921"
             ]
            ],
            "type": "surface"
           }
          ],
          "table": [
           {
            "cells": {
             "fill": {
              "color": "#EBF0F8"
             },
             "line": {
              "color": "white"
             }
            },
            "header": {
             "fill": {
              "color": "#C8D4E3"
             },
             "line": {
              "color": "white"
             }
            },
            "type": "table"
           }
          ]
         },
         "layout": {
          "annotationdefaults": {
           "arrowcolor": "#2a3f5f",
           "arrowhead": 0,
           "arrowwidth": 1
          },
          "autotypenumbers": "strict",
          "coloraxis": {
           "colorbar": {
            "outlinewidth": 0,
            "ticks": ""
           }
          },
          "colorscale": {
           "diverging": [
            [
             0,
             "#8e0152"
            ],
            [
             0.1,
             "#c51b7d"
            ],
            [
             0.2,
             "#de77ae"
            ],
            [
             0.3,
             "#f1b6da"
            ],
            [
             0.4,
             "#fde0ef"
            ],
            [
             0.5,
             "#f7f7f7"
            ],
            [
             0.6,
             "#e6f5d0"
            ],
            [
             0.7,
             "#b8e186"
            ],
            [
             0.8,
             "#7fbc41"
            ],
            [
             0.9,
             "#4d9221"
            ],
            [
             1,
             "#276419"
            ]
           ],
           "sequential": [
            [
             0,
             "#0d0887"
            ],
            [
             0.1111111111111111,
             "#46039f"
            ],
            [
             0.2222222222222222,
             "#7201a8"
            ],
            [
             0.3333333333333333,
             "#9c179e"
            ],
            [
             0.4444444444444444,
             "#bd3786"
            ],
            [
             0.5555555555555556,
             "#d8576b"
            ],
            [
             0.6666666666666666,
             "#ed7953"
            ],
            [
             0.7777777777777778,
             "#fb9f3a"
            ],
            [
             0.8888888888888888,
             "#fdca26"
            ],
            [
             1,
             "#f0f921"
            ]
           ],
           "sequentialminus": [
            [
             0,
             "#0d0887"
            ],
            [
             0.1111111111111111,
             "#46039f"
            ],
            [
             0.2222222222222222,
             "#7201a8"
            ],
            [
             0.3333333333333333,
             "#9c179e"
            ],
            [
             0.4444444444444444,
             "#bd3786"
            ],
            [
             0.5555555555555556,
             "#d8576b"
            ],
            [
             0.6666666666666666,
             "#ed7953"
            ],
            [
             0.7777777777777778,
             "#fb9f3a"
            ],
            [
             0.8888888888888888,
             "#fdca26"
            ],
            [
             1,
             "#f0f921"
            ]
           ]
          },
          "colorway": [
           "#636efa",
           "#EF553B",
           "#00cc96",
           "#ab63fa",
           "#FFA15A",
           "#19d3f3",
           "#FF6692",
           "#B6E880",
           "#FF97FF",
           "#FECB52"
          ],
          "font": {
           "color": "#2a3f5f"
          },
          "geo": {
           "bgcolor": "white",
           "lakecolor": "white",
           "landcolor": "#E5ECF6",
           "showlakes": true,
           "showland": true,
           "subunitcolor": "white"
          },
          "hoverlabel": {
           "align": "left"
          },
          "hovermode": "closest",
          "mapbox": {
           "style": "light"
          },
          "paper_bgcolor": "white",
          "plot_bgcolor": "#E5ECF6",
          "polar": {
           "angularaxis": {
            "gridcolor": "white",
            "linecolor": "white",
            "ticks": ""
           },
           "bgcolor": "#E5ECF6",
           "radialaxis": {
            "gridcolor": "white",
            "linecolor": "white",
            "ticks": ""
           }
          },
          "scene": {
           "xaxis": {
            "backgroundcolor": "#E5ECF6",
            "gridcolor": "white",
            "gridwidth": 2,
            "linecolor": "white",
            "showbackground": true,
            "ticks": "",
            "zerolinecolor": "white"
           },
           "yaxis": {
            "backgroundcolor": "#E5ECF6",
            "gridcolor": "white",
            "gridwidth": 2,
            "linecolor": "white",
            "showbackground": true,
            "ticks": "",
            "zerolinecolor": "white"
           },
           "zaxis": {
            "backgroundcolor": "#E5ECF6",
            "gridcolor": "white",
            "gridwidth": 2,
            "linecolor": "white",
            "showbackground": true,
            "ticks": "",
            "zerolinecolor": "white"
           }
          },
          "shapedefaults": {
           "line": {
            "color": "#2a3f5f"
           }
          },
          "ternary": {
           "aaxis": {
            "gridcolor": "white",
            "linecolor": "white",
            "ticks": ""
           },
           "baxis": {
            "gridcolor": "white",
            "linecolor": "white",
            "ticks": ""
           },
           "bgcolor": "#E5ECF6",
           "caxis": {
            "gridcolor": "white",
            "linecolor": "white",
            "ticks": ""
           }
          },
          "title": {
           "x": 0.05
          },
          "xaxis": {
           "automargin": true,
           "gridcolor": "white",
           "linecolor": "white",
           "ticks": "",
           "title": {
            "standoff": 15
           },
           "zerolinecolor": "white",
           "zerolinewidth": 2
          },
          "yaxis": {
           "automargin": true,
           "gridcolor": "white",
           "linecolor": "white",
           "ticks": "",
           "title": {
            "standoff": 15
           },
           "zerolinecolor": "white",
           "zerolinewidth": 2
          }
         }
        }
       }
      }
     },
     "metadata": {},
     "output_type": "display_data"
    }
   ],
   "source": [
    "import plotly.graph_objects as go\n",
    "go.Figure(data=[go.Surface(z=C_espsilon.values, y=C_espsilon.index, x = C_espsilon.columns)]).show()"
   ]
  },
  {
   "cell_type": "markdown",
   "metadata": {},
   "source": [
    "On foit pas que pour la vol longterm c'est ignoble alors que pour la vol courte de maturité la vol est OK"
   ]
  },
  {
   "cell_type": "code",
   "execution_count": 14,
   "metadata": {},
   "outputs": [
    {
     "data": {
      "text/html": [
       "<div>\n",
       "<style scoped>\n",
       "    .dataframe tbody tr th:only-of-type {\n",
       "        vertical-align: middle;\n",
       "    }\n",
       "\n",
       "    .dataframe tbody tr th {\n",
       "        vertical-align: top;\n",
       "    }\n",
       "\n",
       "    .dataframe thead th {\n",
       "        text-align: right;\n",
       "    }\n",
       "</style>\n",
       "<table border=\"1\" class=\"dataframe\">\n",
       "  <thead>\n",
       "    <tr style=\"text-align: right;\">\n",
       "      <th></th>\n",
       "      <th>30</th>\n",
       "      <th>40</th>\n",
       "      <th>50</th>\n",
       "      <th>65</th>\n",
       "      <th>80</th>\n",
       "      <th>90</th>\n",
       "      <th>100</th>\n",
       "      <th>120</th>\n",
       "      <th>150</th>\n",
       "      <th>200</th>\n",
       "    </tr>\n",
       "  </thead>\n",
       "  <tbody>\n",
       "    <tr>\n",
       "      <th>30</th>\n",
       "      <td>NaN</td>\n",
       "      <td>NaN</td>\n",
       "      <td>NaN</td>\n",
       "      <td>NaN</td>\n",
       "      <td>NaN</td>\n",
       "      <td>NaN</td>\n",
       "      <td>NaN</td>\n",
       "      <td>NaN</td>\n",
       "      <td>NaN</td>\n",
       "      <td>NaN</td>\n",
       "    </tr>\n",
       "    <tr>\n",
       "      <th>90</th>\n",
       "      <td>NaN</td>\n",
       "      <td>0.151621</td>\n",
       "      <td>-0.060903</td>\n",
       "      <td>-0.044943</td>\n",
       "      <td>-0.029757</td>\n",
       "      <td>-0.017275</td>\n",
       "      <td>-0.012618</td>\n",
       "      <td>0.047905</td>\n",
       "      <td>0.008717</td>\n",
       "      <td>NaN</td>\n",
       "    </tr>\n",
       "    <tr>\n",
       "      <th>180</th>\n",
       "      <td>NaN</td>\n",
       "      <td>-0.08008</td>\n",
       "      <td>-0.075582</td>\n",
       "      <td>-0.060966</td>\n",
       "      <td>-0.048117</td>\n",
       "      <td>-0.0402</td>\n",
       "      <td>-0.027525</td>\n",
       "      <td>0.034508</td>\n",
       "      <td>0.0043</td>\n",
       "      <td>NaN</td>\n",
       "    </tr>\n",
       "    <tr>\n",
       "      <th>365</th>\n",
       "      <td>NaN</td>\n",
       "      <td>-0.080881</td>\n",
       "      <td>-0.068281</td>\n",
       "      <td>-0.052654</td>\n",
       "      <td>-0.042048</td>\n",
       "      <td>-0.038363</td>\n",
       "      <td>-0.035299</td>\n",
       "      <td>0.012675</td>\n",
       "      <td>0.010208</td>\n",
       "      <td>NaN</td>\n",
       "    </tr>\n",
       "    <tr>\n",
       "      <th>730</th>\n",
       "      <td>NaN</td>\n",
       "      <td>-0.068901</td>\n",
       "      <td>-0.056447</td>\n",
       "      <td>-0.041493</td>\n",
       "      <td>-0.028722</td>\n",
       "      <td>-0.022777</td>\n",
       "      <td>-0.020899</td>\n",
       "      <td>-0.006275</td>\n",
       "      <td>0.007745</td>\n",
       "      <td>NaN</td>\n",
       "    </tr>\n",
       "    <tr>\n",
       "      <th>1095</th>\n",
       "      <td>NaN</td>\n",
       "      <td>-0.086217</td>\n",
       "      <td>-0.07453</td>\n",
       "      <td>-0.05619</td>\n",
       "      <td>-0.036005</td>\n",
       "      <td>-0.023894</td>\n",
       "      <td>-0.016246</td>\n",
       "      <td>-0.004509</td>\n",
       "      <td>-0.005408</td>\n",
       "      <td>NaN</td>\n",
       "    </tr>\n",
       "    <tr>\n",
       "      <th>1460</th>\n",
       "      <td>NaN</td>\n",
       "      <td>-0.095789</td>\n",
       "      <td>-0.082028</td>\n",
       "      <td>-0.059967</td>\n",
       "      <td>-0.037397</td>\n",
       "      <td>-0.023626</td>\n",
       "      <td>-0.014884</td>\n",
       "      <td>-0.003507</td>\n",
       "      <td>-0.006293</td>\n",
       "      <td>NaN</td>\n",
       "    </tr>\n",
       "    <tr>\n",
       "      <th>1825</th>\n",
       "      <td>NaN</td>\n",
       "      <td>-0.105606</td>\n",
       "      <td>-0.088059</td>\n",
       "      <td>-0.063939</td>\n",
       "      <td>-0.039596</td>\n",
       "      <td>-0.025544</td>\n",
       "      <td>-0.017032</td>\n",
       "      <td>-0.004515</td>\n",
       "      <td>-0.002662</td>\n",
       "      <td>NaN</td>\n",
       "    </tr>\n",
       "    <tr>\n",
       "      <th>2555</th>\n",
       "      <td>NaN</td>\n",
       "      <td>-0.123683</td>\n",
       "      <td>-0.106317</td>\n",
       "      <td>-0.083703</td>\n",
       "      <td>-0.061882</td>\n",
       "      <td>-0.049662</td>\n",
       "      <td>-0.043</td>\n",
       "      <td>-0.034688</td>\n",
       "      <td>-0.024901</td>\n",
       "      <td>NaN</td>\n",
       "    </tr>\n",
       "    <tr>\n",
       "      <th>3650</th>\n",
       "      <td>NaN</td>\n",
       "      <td>-0.133966</td>\n",
       "      <td>-0.119573</td>\n",
       "      <td>-0.101874</td>\n",
       "      <td>-0.084767</td>\n",
       "      <td>-0.075138</td>\n",
       "      <td>-0.069375</td>\n",
       "      <td>-0.062491</td>\n",
       "      <td>-0.054486</td>\n",
       "      <td>NaN</td>\n",
       "    </tr>\n",
       "  </tbody>\n",
       "</table>\n",
       "</div>"
      ],
      "text/plain": [
       "       30        40        50        65        80        90       100  \\\n",
       "30    NaN       NaN       NaN       NaN       NaN       NaN       NaN   \n",
       "90    NaN  0.151621 -0.060903 -0.044943 -0.029757 -0.017275 -0.012618   \n",
       "180   NaN  -0.08008 -0.075582 -0.060966 -0.048117   -0.0402 -0.027525   \n",
       "365   NaN -0.080881 -0.068281 -0.052654 -0.042048 -0.038363 -0.035299   \n",
       "730   NaN -0.068901 -0.056447 -0.041493 -0.028722 -0.022777 -0.020899   \n",
       "1095  NaN -0.086217  -0.07453  -0.05619 -0.036005 -0.023894 -0.016246   \n",
       "1460  NaN -0.095789 -0.082028 -0.059967 -0.037397 -0.023626 -0.014884   \n",
       "1825  NaN -0.105606 -0.088059 -0.063939 -0.039596 -0.025544 -0.017032   \n",
       "2555  NaN -0.123683 -0.106317 -0.083703 -0.061882 -0.049662    -0.043   \n",
       "3650  NaN -0.133966 -0.119573 -0.101874 -0.084767 -0.075138 -0.069375   \n",
       "\n",
       "           120       150  200  \n",
       "30         NaN       NaN  NaN  \n",
       "90    0.047905  0.008717  NaN  \n",
       "180   0.034508    0.0043  NaN  \n",
       "365   0.012675  0.010208  NaN  \n",
       "730  -0.006275  0.007745  NaN  \n",
       "1095 -0.004509 -0.005408  NaN  \n",
       "1460 -0.003507 -0.006293  NaN  \n",
       "1825 -0.004515 -0.002662  NaN  \n",
       "2555 -0.034688 -0.024901  NaN  \n",
       "3650 -0.062491 -0.054486  NaN  "
      ]
     },
     "execution_count": 14,
     "metadata": {},
     "output_type": "execute_result"
    }
   ],
   "source": [
    "#epsilon Vol\n",
    "df_diff = vol_local - pd.DataFrame(Vol_origine)\n",
    "df_diff"
   ]
  },
  {
   "cell_type": "code",
   "execution_count": 15,
   "metadata": {},
   "outputs": [
    {
     "data": {
      "application/vnd.plotly.v1+json": {
       "config": {
        "plotlyServerURL": "https://plot.ly"
       },
       "data": [
        {
         "type": "surface",
         "x": [
          30,
          40,
          50,
          65,
          80,
          90,
          100,
          120,
          150,
          200
         ],
         "y": [
          30,
          90,
          180,
          365,
          730,
          1095,
          1460,
          1825,
          2555,
          3650
         ],
         "z": [
          [
           null,
           null,
           null,
           null,
           null,
           null,
           null,
           null,
           null,
           null
          ],
          [
           null,
           0.7294884836743938,
           0.4310515757425054,
           0.32387683494319874,
           0.21728072235001394,
           0.15539917739834097,
           0.10810391277324857,
           0.17465427599033395,
           0.19965061910208576,
           null
          ],
          [
           null,
           0.3970980133654971,
           0.3326394046452116,
           0.2518441352041204,
           0.17659734141462394,
           0.13246775627866617,
           0.10560740533871674,
           0.1532657395872794,
           0.15367749938412972,
           null
          ],
          [
           null,
           0.3183361609622215,
           0.2758965268396171,
           0.22048103941142036,
           0.17013888345682318,
           0.13891122023845137,
           0.11361215417656291,
           0.13814130398341756,
           0.1439821558812066,
           null
          ],
          [
           null,
           0.2674574661852697,
           0.23782582873151834,
           0.20050640531056255,
           0.17075229955904309,
           0.1535112649537485,
           0.13656012923264027,
           0.13093762811782717,
           0.14133012279859553,
           null
          ],
          [
           null,
           0.2292521120863471,
           0.2045655856065693,
           0.1767420039187662,
           0.16002812058791202,
           0.15279408716035542,
           0.1449776341167839,
           0.13909581249942432,
           0.13292239225792185,
           null
          ],
          [
           null,
           0.2104407194385757,
           0.18965548200792157,
           0.16808664753444463,
           0.1568823634251939,
           0.15334297621469906,
           0.14853540890125996,
           0.144093114088014,
           0.13581917444657043,
           null
          ],
          [
           null,
           0.19576480137448005,
           0.17944540680125481,
           0.16140281173148144,
           0.1538977066344361,
           0.1520960275835985,
           0.148409482820657,
           0.14612043996102855,
           0.1419694924547392,
           null
          ],
          [
           null,
           0.1777939381336929,
           0.16280678440917354,
           0.1458909607755007,
           0.13846639973955907,
           0.13637806998695398,
           0.13225976627510594,
           0.1269499147830364,
           0.12900914932710705,
           null
          ],
          [
           null,
           0.17120736881748952,
           0.1563738039327796,
           0.1390401244608571,
           0.13000927108183616,
           0.1267563510801742,
           0.12268919017293982,
           0.11671304614753078,
           0.11578792440266994,
           null
          ]
         ]
        }
       ],
       "layout": {
        "template": {
         "data": {
          "bar": [
           {
            "error_x": {
             "color": "#2a3f5f"
            },
            "error_y": {
             "color": "#2a3f5f"
            },
            "marker": {
             "line": {
              "color": "#E5ECF6",
              "width": 0.5
             },
             "pattern": {
              "fillmode": "overlay",
              "size": 10,
              "solidity": 0.2
             }
            },
            "type": "bar"
           }
          ],
          "barpolar": [
           {
            "marker": {
             "line": {
              "color": "#E5ECF6",
              "width": 0.5
             },
             "pattern": {
              "fillmode": "overlay",
              "size": 10,
              "solidity": 0.2
             }
            },
            "type": "barpolar"
           }
          ],
          "carpet": [
           {
            "aaxis": {
             "endlinecolor": "#2a3f5f",
             "gridcolor": "white",
             "linecolor": "white",
             "minorgridcolor": "white",
             "startlinecolor": "#2a3f5f"
            },
            "baxis": {
             "endlinecolor": "#2a3f5f",
             "gridcolor": "white",
             "linecolor": "white",
             "minorgridcolor": "white",
             "startlinecolor": "#2a3f5f"
            },
            "type": "carpet"
           }
          ],
          "choropleth": [
           {
            "colorbar": {
             "outlinewidth": 0,
             "ticks": ""
            },
            "type": "choropleth"
           }
          ],
          "contour": [
           {
            "colorbar": {
             "outlinewidth": 0,
             "ticks": ""
            },
            "colorscale": [
             [
              0,
              "#0d0887"
             ],
             [
              0.1111111111111111,
              "#46039f"
             ],
             [
              0.2222222222222222,
              "#7201a8"
             ],
             [
              0.3333333333333333,
              "#9c179e"
             ],
             [
              0.4444444444444444,
              "#bd3786"
             ],
             [
              0.5555555555555556,
              "#d8576b"
             ],
             [
              0.6666666666666666,
              "#ed7953"
             ],
             [
              0.7777777777777778,
              "#fb9f3a"
             ],
             [
              0.8888888888888888,
              "#fdca26"
             ],
             [
              1,
              "#f0f921"
             ]
            ],
            "type": "contour"
           }
          ],
          "contourcarpet": [
           {
            "colorbar": {
             "outlinewidth": 0,
             "ticks": ""
            },
            "type": "contourcarpet"
           }
          ],
          "heatmap": [
           {
            "colorbar": {
             "outlinewidth": 0,
             "ticks": ""
            },
            "colorscale": [
             [
              0,
              "#0d0887"
             ],
             [
              0.1111111111111111,
              "#46039f"
             ],
             [
              0.2222222222222222,
              "#7201a8"
             ],
             [
              0.3333333333333333,
              "#9c179e"
             ],
             [
              0.4444444444444444,
              "#bd3786"
             ],
             [
              0.5555555555555556,
              "#d8576b"
             ],
             [
              0.6666666666666666,
              "#ed7953"
             ],
             [
              0.7777777777777778,
              "#fb9f3a"
             ],
             [
              0.8888888888888888,
              "#fdca26"
             ],
             [
              1,
              "#f0f921"
             ]
            ],
            "type": "heatmap"
           }
          ],
          "heatmapgl": [
           {
            "colorbar": {
             "outlinewidth": 0,
             "ticks": ""
            },
            "colorscale": [
             [
              0,
              "#0d0887"
             ],
             [
              0.1111111111111111,
              "#46039f"
             ],
             [
              0.2222222222222222,
              "#7201a8"
             ],
             [
              0.3333333333333333,
              "#9c179e"
             ],
             [
              0.4444444444444444,
              "#bd3786"
             ],
             [
              0.5555555555555556,
              "#d8576b"
             ],
             [
              0.6666666666666666,
              "#ed7953"
             ],
             [
              0.7777777777777778,
              "#fb9f3a"
             ],
             [
              0.8888888888888888,
              "#fdca26"
             ],
             [
              1,
              "#f0f921"
             ]
            ],
            "type": "heatmapgl"
           }
          ],
          "histogram": [
           {
            "marker": {
             "pattern": {
              "fillmode": "overlay",
              "size": 10,
              "solidity": 0.2
             }
            },
            "type": "histogram"
           }
          ],
          "histogram2d": [
           {
            "colorbar": {
             "outlinewidth": 0,
             "ticks": ""
            },
            "colorscale": [
             [
              0,
              "#0d0887"
             ],
             [
              0.1111111111111111,
              "#46039f"
             ],
             [
              0.2222222222222222,
              "#7201a8"
             ],
             [
              0.3333333333333333,
              "#9c179e"
             ],
             [
              0.4444444444444444,
              "#bd3786"
             ],
             [
              0.5555555555555556,
              "#d8576b"
             ],
             [
              0.6666666666666666,
              "#ed7953"
             ],
             [
              0.7777777777777778,
              "#fb9f3a"
             ],
             [
              0.8888888888888888,
              "#fdca26"
             ],
             [
              1,
              "#f0f921"
             ]
            ],
            "type": "histogram2d"
           }
          ],
          "histogram2dcontour": [
           {
            "colorbar": {
             "outlinewidth": 0,
             "ticks": ""
            },
            "colorscale": [
             [
              0,
              "#0d0887"
             ],
             [
              0.1111111111111111,
              "#46039f"
             ],
             [
              0.2222222222222222,
              "#7201a8"
             ],
             [
              0.3333333333333333,
              "#9c179e"
             ],
             [
              0.4444444444444444,
              "#bd3786"
             ],
             [
              0.5555555555555556,
              "#d8576b"
             ],
             [
              0.6666666666666666,
              "#ed7953"
             ],
             [
              0.7777777777777778,
              "#fb9f3a"
             ],
             [
              0.8888888888888888,
              "#fdca26"
             ],
             [
              1,
              "#f0f921"
             ]
            ],
            "type": "histogram2dcontour"
           }
          ],
          "mesh3d": [
           {
            "colorbar": {
             "outlinewidth": 0,
             "ticks": ""
            },
            "type": "mesh3d"
           }
          ],
          "parcoords": [
           {
            "line": {
             "colorbar": {
              "outlinewidth": 0,
              "ticks": ""
             }
            },
            "type": "parcoords"
           }
          ],
          "pie": [
           {
            "automargin": true,
            "type": "pie"
           }
          ],
          "scatter": [
           {
            "marker": {
             "colorbar": {
              "outlinewidth": 0,
              "ticks": ""
             }
            },
            "type": "scatter"
           }
          ],
          "scatter3d": [
           {
            "line": {
             "colorbar": {
              "outlinewidth": 0,
              "ticks": ""
             }
            },
            "marker": {
             "colorbar": {
              "outlinewidth": 0,
              "ticks": ""
             }
            },
            "type": "scatter3d"
           }
          ],
          "scattercarpet": [
           {
            "marker": {
             "colorbar": {
              "outlinewidth": 0,
              "ticks": ""
             }
            },
            "type": "scattercarpet"
           }
          ],
          "scattergeo": [
           {
            "marker": {
             "colorbar": {
              "outlinewidth": 0,
              "ticks": ""
             }
            },
            "type": "scattergeo"
           }
          ],
          "scattergl": [
           {
            "marker": {
             "colorbar": {
              "outlinewidth": 0,
              "ticks": ""
             }
            },
            "type": "scattergl"
           }
          ],
          "scattermapbox": [
           {
            "marker": {
             "colorbar": {
              "outlinewidth": 0,
              "ticks": ""
             }
            },
            "type": "scattermapbox"
           }
          ],
          "scatterpolar": [
           {
            "marker": {
             "colorbar": {
              "outlinewidth": 0,
              "ticks": ""
             }
            },
            "type": "scatterpolar"
           }
          ],
          "scatterpolargl": [
           {
            "marker": {
             "colorbar": {
              "outlinewidth": 0,
              "ticks": ""
             }
            },
            "type": "scatterpolargl"
           }
          ],
          "scatterternary": [
           {
            "marker": {
             "colorbar": {
              "outlinewidth": 0,
              "ticks": ""
             }
            },
            "type": "scatterternary"
           }
          ],
          "surface": [
           {
            "colorbar": {
             "outlinewidth": 0,
             "ticks": ""
            },
            "colorscale": [
             [
              0,
              "#0d0887"
             ],
             [
              0.1111111111111111,
              "#46039f"
             ],
             [
              0.2222222222222222,
              "#7201a8"
             ],
             [
              0.3333333333333333,
              "#9c179e"
             ],
             [
              0.4444444444444444,
              "#bd3786"
             ],
             [
              0.5555555555555556,
              "#d8576b"
             ],
             [
              0.6666666666666666,
              "#ed7953"
             ],
             [
              0.7777777777777778,
              "#fb9f3a"
             ],
             [
              0.8888888888888888,
              "#fdca26"
             ],
             [
              1,
              "#f0f921"
             ]
            ],
            "type": "surface"
           }
          ],
          "table": [
           {
            "cells": {
             "fill": {
              "color": "#EBF0F8"
             },
             "line": {
              "color": "white"
             }
            },
            "header": {
             "fill": {
              "color": "#C8D4E3"
             },
             "line": {
              "color": "white"
             }
            },
            "type": "table"
           }
          ]
         },
         "layout": {
          "annotationdefaults": {
           "arrowcolor": "#2a3f5f",
           "arrowhead": 0,
           "arrowwidth": 1
          },
          "autotypenumbers": "strict",
          "coloraxis": {
           "colorbar": {
            "outlinewidth": 0,
            "ticks": ""
           }
          },
          "colorscale": {
           "diverging": [
            [
             0,
             "#8e0152"
            ],
            [
             0.1,
             "#c51b7d"
            ],
            [
             0.2,
             "#de77ae"
            ],
            [
             0.3,
             "#f1b6da"
            ],
            [
             0.4,
             "#fde0ef"
            ],
            [
             0.5,
             "#f7f7f7"
            ],
            [
             0.6,
             "#e6f5d0"
            ],
            [
             0.7,
             "#b8e186"
            ],
            [
             0.8,
             "#7fbc41"
            ],
            [
             0.9,
             "#4d9221"
            ],
            [
             1,
             "#276419"
            ]
           ],
           "sequential": [
            [
             0,
             "#0d0887"
            ],
            [
             0.1111111111111111,
             "#46039f"
            ],
            [
             0.2222222222222222,
             "#7201a8"
            ],
            [
             0.3333333333333333,
             "#9c179e"
            ],
            [
             0.4444444444444444,
             "#bd3786"
            ],
            [
             0.5555555555555556,
             "#d8576b"
            ],
            [
             0.6666666666666666,
             "#ed7953"
            ],
            [
             0.7777777777777778,
             "#fb9f3a"
            ],
            [
             0.8888888888888888,
             "#fdca26"
            ],
            [
             1,
             "#f0f921"
            ]
           ],
           "sequentialminus": [
            [
             0,
             "#0d0887"
            ],
            [
             0.1111111111111111,
             "#46039f"
            ],
            [
             0.2222222222222222,
             "#7201a8"
            ],
            [
             0.3333333333333333,
             "#9c179e"
            ],
            [
             0.4444444444444444,
             "#bd3786"
            ],
            [
             0.5555555555555556,
             "#d8576b"
            ],
            [
             0.6666666666666666,
             "#ed7953"
            ],
            [
             0.7777777777777778,
             "#fb9f3a"
            ],
            [
             0.8888888888888888,
             "#fdca26"
            ],
            [
             1,
             "#f0f921"
            ]
           ]
          },
          "colorway": [
           "#636efa",
           "#EF553B",
           "#00cc96",
           "#ab63fa",
           "#FFA15A",
           "#19d3f3",
           "#FF6692",
           "#B6E880",
           "#FF97FF",
           "#FECB52"
          ],
          "font": {
           "color": "#2a3f5f"
          },
          "geo": {
           "bgcolor": "white",
           "lakecolor": "white",
           "landcolor": "#E5ECF6",
           "showlakes": true,
           "showland": true,
           "subunitcolor": "white"
          },
          "hoverlabel": {
           "align": "left"
          },
          "hovermode": "closest",
          "mapbox": {
           "style": "light"
          },
          "paper_bgcolor": "white",
          "plot_bgcolor": "#E5ECF6",
          "polar": {
           "angularaxis": {
            "gridcolor": "white",
            "linecolor": "white",
            "ticks": ""
           },
           "bgcolor": "#E5ECF6",
           "radialaxis": {
            "gridcolor": "white",
            "linecolor": "white",
            "ticks": ""
           }
          },
          "scene": {
           "xaxis": {
            "backgroundcolor": "#E5ECF6",
            "gridcolor": "white",
            "gridwidth": 2,
            "linecolor": "white",
            "showbackground": true,
            "ticks": "",
            "zerolinecolor": "white"
           },
           "yaxis": {
            "backgroundcolor": "#E5ECF6",
            "gridcolor": "white",
            "gridwidth": 2,
            "linecolor": "white",
            "showbackground": true,
            "ticks": "",
            "zerolinecolor": "white"
           },
           "zaxis": {
            "backgroundcolor": "#E5ECF6",
            "gridcolor": "white",
            "gridwidth": 2,
            "linecolor": "white",
            "showbackground": true,
            "ticks": "",
            "zerolinecolor": "white"
           }
          },
          "shapedefaults": {
           "line": {
            "color": "#2a3f5f"
           }
          },
          "ternary": {
           "aaxis": {
            "gridcolor": "white",
            "linecolor": "white",
            "ticks": ""
           },
           "baxis": {
            "gridcolor": "white",
            "linecolor": "white",
            "ticks": ""
           },
           "bgcolor": "#E5ECF6",
           "caxis": {
            "gridcolor": "white",
            "linecolor": "white",
            "ticks": ""
           }
          },
          "title": {
           "x": 0.05
          },
          "xaxis": {
           "automargin": true,
           "gridcolor": "white",
           "linecolor": "white",
           "ticks": "",
           "title": {
            "standoff": 15
           },
           "zerolinecolor": "white",
           "zerolinewidth": 2
          },
          "yaxis": {
           "automargin": true,
           "gridcolor": "white",
           "linecolor": "white",
           "ticks": "",
           "title": {
            "standoff": 15
           },
           "zerolinecolor": "white",
           "zerolinewidth": 2
          }
         }
        }
       }
      }
     },
     "metadata": {},
     "output_type": "display_data"
    }
   ],
   "source": [
    "go.Figure(data=[go.Surface(z=vol_local.values, y=vol_local.index, x = vol_local.columns)]).show()"
   ]
  },
  {
   "cell_type": "code",
   "execution_count": 16,
   "metadata": {},
   "outputs": [
    {
     "ename": "AttributeError",
     "evalue": "'numpy.float64' object has no attribute 'values'",
     "output_type": "error",
     "traceback": [
      "\u001b[1;31m---------------------------------------------------------------------------\u001b[0m",
      "\u001b[1;31mAttributeError\u001b[0m                            Traceback (most recent call last)",
      "\u001b[1;32m~\\AppData\\Local\\Temp/ipykernel_1928/1382730003.py\u001b[0m in \u001b[0;36m<module>\u001b[1;34m\u001b[0m\n\u001b[1;32m----> 1\u001b[1;33m \u001b[0mfig\u001b[0m \u001b[1;33m=\u001b[0m \u001b[0mgo\u001b[0m\u001b[1;33m.\u001b[0m\u001b[0mFigure\u001b[0m\u001b[1;33m(\u001b[0m\u001b[0mdata\u001b[0m\u001b[1;33m=\u001b[0m\u001b[1;33m[\u001b[0m\u001b[0mgo\u001b[0m\u001b[1;33m.\u001b[0m\u001b[0mSurface\u001b[0m\u001b[1;33m(\u001b[0m\u001b[0mz\u001b[0m\u001b[1;33m=\u001b[0m\u001b[0mUdl\u001b[0m\u001b[1;33m.\u001b[0m\u001b[0mVol\u001b[0m\u001b[1;33m.\u001b[0m\u001b[0mvalues\u001b[0m\u001b[1;33m,\u001b[0m\u001b[0my\u001b[0m\u001b[1;33m=\u001b[0m\u001b[0mvol_local\u001b[0m\u001b[1;33m.\u001b[0m\u001b[0mindex\u001b[0m\u001b[1;33m,\u001b[0m \u001b[0mx\u001b[0m \u001b[1;33m=\u001b[0m \u001b[0mvol_local\u001b[0m\u001b[1;33m.\u001b[0m\u001b[0mcolumns\u001b[0m\u001b[1;33m)\u001b[0m\u001b[1;33m]\u001b[0m\u001b[1;33m)\u001b[0m\u001b[1;33m.\u001b[0m\u001b[0mshow\u001b[0m\u001b[1;33m(\u001b[0m\u001b[1;33m)\u001b[0m\u001b[1;33m\u001b[0m\u001b[1;33m\u001b[0m\u001b[0m\n\u001b[0m",
      "\u001b[1;31mAttributeError\u001b[0m: 'numpy.float64' object has no attribute 'values'"
     ]
    }
   ],
   "source": [
    "fig = go.Figure(data=[go.Surface(z=Udl.Vol.values,y=vol_local.index, x = vol_local.columns)]).show()"
   ]
  },
  {
   "cell_type": "code",
   "execution_count": null,
   "metadata": {},
   "outputs": [
    {
     "data": {
      "application/vnd.plotly.v1+json": {
       "config": {
        "plotlyServerURL": "https://plot.ly"
       },
       "data": [
        {
         "type": "surface",
         "x": [
          30,
          40,
          50,
          65,
          80,
          90,
          100,
          120,
          150,
          200
         ],
         "y": [
          30,
          90,
          180,
          365,
          730,
          1095,
          1460,
          1825,
          2555,
          3650
         ],
         "z": [
          [
           null,
           null,
           null,
           null,
           null,
           null,
           null,
           null,
           null,
           null
          ],
          [
           null,
           0.15162063667439374,
           -0.060903105257494594,
           -0.04494253905680129,
           -0.029756626649986073,
           -0.017275280601659032,
           -0.012617929226751437,
           0.04790453299033395,
           0.008717304102085738,
           null
          ],
          [
           null,
           -0.08007967663450288,
           -0.07558193435478844,
           -0.060965856795879625,
           -0.04811700858537607,
           -0.04020016272133384,
           -0.027524572661283275,
           0.03450834158727939,
           0.00430017038412972,
           null
          ],
          [
           null,
           -0.08088079103777851,
           -0.06828131716038294,
           -0.05265361858857967,
           -0.04204789254317684,
           -0.03836344376154863,
           -0.03529893282343709,
           0.012675414983417566,
           0.010208439881206594,
           null
          ],
          [
           null,
           -0.06890058081473027,
           -0.056446599268481695,
           -0.04149306168943748,
           -0.028721831440956913,
           -0.0227773080462515,
           -0.020898989767359738,
           -0.006275071882172828,
           0.007745179798595514,
           null
          ],
          [
           null,
           -0.08621670691365291,
           -0.07452979239343072,
           -0.056189543081233806,
           -0.036005401412087995,
           -0.023894080839644588,
           -0.016245923883216107,
           -0.004509109500575675,
           -0.005408093742078152,
           null
          ],
          [
           null,
           -0.09578857256142434,
           -0.08202848499207846,
           -0.05996654846555538,
           -0.03739720357480611,
           -0.023625959785300965,
           -0.014884434098740046,
           -0.003507305911986003,
           -0.0062933255534295685,
           null
          ],
          [
           null,
           -0.10560612562551996,
           -0.08805876519874523,
           -0.06393902826851858,
           -0.03959604336556388,
           -0.0255442794164015,
           -0.017032433179343026,
           -0.004515351038971466,
           -0.002661946545260807,
           null
          ],
          [
           null,
           -0.12368327486630712,
           -0.1063165025908265,
           -0.0837025282244993,
           -0.06188200426044094,
           -0.04966154101304604,
           -0.042999891724894074,
           -0.03468809021696359,
           -0.024900609672892954,
           null
          ],
          [
           null,
           -0.1339662301825105,
           -0.11957272106722039,
           -0.10187366353914293,
           -0.08476667791816386,
           -0.07513789891982581,
           -0.06937546082706018,
           -0.062491050852469227,
           -0.054486416597330084,
           null
          ]
         ]
        }
       ],
       "layout": {
        "template": {
         "data": {
          "bar": [
           {
            "error_x": {
             "color": "#2a3f5f"
            },
            "error_y": {
             "color": "#2a3f5f"
            },
            "marker": {
             "line": {
              "color": "#E5ECF6",
              "width": 0.5
             },
             "pattern": {
              "fillmode": "overlay",
              "size": 10,
              "solidity": 0.2
             }
            },
            "type": "bar"
           }
          ],
          "barpolar": [
           {
            "marker": {
             "line": {
              "color": "#E5ECF6",
              "width": 0.5
             },
             "pattern": {
              "fillmode": "overlay",
              "size": 10,
              "solidity": 0.2
             }
            },
            "type": "barpolar"
           }
          ],
          "carpet": [
           {
            "aaxis": {
             "endlinecolor": "#2a3f5f",
             "gridcolor": "white",
             "linecolor": "white",
             "minorgridcolor": "white",
             "startlinecolor": "#2a3f5f"
            },
            "baxis": {
             "endlinecolor": "#2a3f5f",
             "gridcolor": "white",
             "linecolor": "white",
             "minorgridcolor": "white",
             "startlinecolor": "#2a3f5f"
            },
            "type": "carpet"
           }
          ],
          "choropleth": [
           {
            "colorbar": {
             "outlinewidth": 0,
             "ticks": ""
            },
            "type": "choropleth"
           }
          ],
          "contour": [
           {
            "colorbar": {
             "outlinewidth": 0,
             "ticks": ""
            },
            "colorscale": [
             [
              0,
              "#0d0887"
             ],
             [
              0.1111111111111111,
              "#46039f"
             ],
             [
              0.2222222222222222,
              "#7201a8"
             ],
             [
              0.3333333333333333,
              "#9c179e"
             ],
             [
              0.4444444444444444,
              "#bd3786"
             ],
             [
              0.5555555555555556,
              "#d8576b"
             ],
             [
              0.6666666666666666,
              "#ed7953"
             ],
             [
              0.7777777777777778,
              "#fb9f3a"
             ],
             [
              0.8888888888888888,
              "#fdca26"
             ],
             [
              1,
              "#f0f921"
             ]
            ],
            "type": "contour"
           }
          ],
          "contourcarpet": [
           {
            "colorbar": {
             "outlinewidth": 0,
             "ticks": ""
            },
            "type": "contourcarpet"
           }
          ],
          "heatmap": [
           {
            "colorbar": {
             "outlinewidth": 0,
             "ticks": ""
            },
            "colorscale": [
             [
              0,
              "#0d0887"
             ],
             [
              0.1111111111111111,
              "#46039f"
             ],
             [
              0.2222222222222222,
              "#7201a8"
             ],
             [
              0.3333333333333333,
              "#9c179e"
             ],
             [
              0.4444444444444444,
              "#bd3786"
             ],
             [
              0.5555555555555556,
              "#d8576b"
             ],
             [
              0.6666666666666666,
              "#ed7953"
             ],
             [
              0.7777777777777778,
              "#fb9f3a"
             ],
             [
              0.8888888888888888,
              "#fdca26"
             ],
             [
              1,
              "#f0f921"
             ]
            ],
            "type": "heatmap"
           }
          ],
          "heatmapgl": [
           {
            "colorbar": {
             "outlinewidth": 0,
             "ticks": ""
            },
            "colorscale": [
             [
              0,
              "#0d0887"
             ],
             [
              0.1111111111111111,
              "#46039f"
             ],
             [
              0.2222222222222222,
              "#7201a8"
             ],
             [
              0.3333333333333333,
              "#9c179e"
             ],
             [
              0.4444444444444444,
              "#bd3786"
             ],
             [
              0.5555555555555556,
              "#d8576b"
             ],
             [
              0.6666666666666666,
              "#ed7953"
             ],
             [
              0.7777777777777778,
              "#fb9f3a"
             ],
             [
              0.8888888888888888,
              "#fdca26"
             ],
             [
              1,
              "#f0f921"
             ]
            ],
            "type": "heatmapgl"
           }
          ],
          "histogram": [
           {
            "marker": {
             "pattern": {
              "fillmode": "overlay",
              "size": 10,
              "solidity": 0.2
             }
            },
            "type": "histogram"
           }
          ],
          "histogram2d": [
           {
            "colorbar": {
             "outlinewidth": 0,
             "ticks": ""
            },
            "colorscale": [
             [
              0,
              "#0d0887"
             ],
             [
              0.1111111111111111,
              "#46039f"
             ],
             [
              0.2222222222222222,
              "#7201a8"
             ],
             [
              0.3333333333333333,
              "#9c179e"
             ],
             [
              0.4444444444444444,
              "#bd3786"
             ],
             [
              0.5555555555555556,
              "#d8576b"
             ],
             [
              0.6666666666666666,
              "#ed7953"
             ],
             [
              0.7777777777777778,
              "#fb9f3a"
             ],
             [
              0.8888888888888888,
              "#fdca26"
             ],
             [
              1,
              "#f0f921"
             ]
            ],
            "type": "histogram2d"
           }
          ],
          "histogram2dcontour": [
           {
            "colorbar": {
             "outlinewidth": 0,
             "ticks": ""
            },
            "colorscale": [
             [
              0,
              "#0d0887"
             ],
             [
              0.1111111111111111,
              "#46039f"
             ],
             [
              0.2222222222222222,
              "#7201a8"
             ],
             [
              0.3333333333333333,
              "#9c179e"
             ],
             [
              0.4444444444444444,
              "#bd3786"
             ],
             [
              0.5555555555555556,
              "#d8576b"
             ],
             [
              0.6666666666666666,
              "#ed7953"
             ],
             [
              0.7777777777777778,
              "#fb9f3a"
             ],
             [
              0.8888888888888888,
              "#fdca26"
             ],
             [
              1,
              "#f0f921"
             ]
            ],
            "type": "histogram2dcontour"
           }
          ],
          "mesh3d": [
           {
            "colorbar": {
             "outlinewidth": 0,
             "ticks": ""
            },
            "type": "mesh3d"
           }
          ],
          "parcoords": [
           {
            "line": {
             "colorbar": {
              "outlinewidth": 0,
              "ticks": ""
             }
            },
            "type": "parcoords"
           }
          ],
          "pie": [
           {
            "automargin": true,
            "type": "pie"
           }
          ],
          "scatter": [
           {
            "marker": {
             "colorbar": {
              "outlinewidth": 0,
              "ticks": ""
             }
            },
            "type": "scatter"
           }
          ],
          "scatter3d": [
           {
            "line": {
             "colorbar": {
              "outlinewidth": 0,
              "ticks": ""
             }
            },
            "marker": {
             "colorbar": {
              "outlinewidth": 0,
              "ticks": ""
             }
            },
            "type": "scatter3d"
           }
          ],
          "scattercarpet": [
           {
            "marker": {
             "colorbar": {
              "outlinewidth": 0,
              "ticks": ""
             }
            },
            "type": "scattercarpet"
           }
          ],
          "scattergeo": [
           {
            "marker": {
             "colorbar": {
              "outlinewidth": 0,
              "ticks": ""
             }
            },
            "type": "scattergeo"
           }
          ],
          "scattergl": [
           {
            "marker": {
             "colorbar": {
              "outlinewidth": 0,
              "ticks": ""
             }
            },
            "type": "scattergl"
           }
          ],
          "scattermapbox": [
           {
            "marker": {
             "colorbar": {
              "outlinewidth": 0,
              "ticks": ""
             }
            },
            "type": "scattermapbox"
           }
          ],
          "scatterpolar": [
           {
            "marker": {
             "colorbar": {
              "outlinewidth": 0,
              "ticks": ""
             }
            },
            "type": "scatterpolar"
           }
          ],
          "scatterpolargl": [
           {
            "marker": {
             "colorbar": {
              "outlinewidth": 0,
              "ticks": ""
             }
            },
            "type": "scatterpolargl"
           }
          ],
          "scatterternary": [
           {
            "marker": {
             "colorbar": {
              "outlinewidth": 0,
              "ticks": ""
             }
            },
            "type": "scatterternary"
           }
          ],
          "surface": [
           {
            "colorbar": {
             "outlinewidth": 0,
             "ticks": ""
            },
            "colorscale": [
             [
              0,
              "#0d0887"
             ],
             [
              0.1111111111111111,
              "#46039f"
             ],
             [
              0.2222222222222222,
              "#7201a8"
             ],
             [
              0.3333333333333333,
              "#9c179e"
             ],
             [
              0.4444444444444444,
              "#bd3786"
             ],
             [
              0.5555555555555556,
              "#d8576b"
             ],
             [
              0.6666666666666666,
              "#ed7953"
             ],
             [
              0.7777777777777778,
              "#fb9f3a"
             ],
             [
              0.8888888888888888,
              "#fdca26"
             ],
             [
              1,
              "#f0f921"
             ]
            ],
            "type": "surface"
           }
          ],
          "table": [
           {
            "cells": {
             "fill": {
              "color": "#EBF0F8"
             },
             "line": {
              "color": "white"
             }
            },
            "header": {
             "fill": {
              "color": "#C8D4E3"
             },
             "line": {
              "color": "white"
             }
            },
            "type": "table"
           }
          ]
         },
         "layout": {
          "annotationdefaults": {
           "arrowcolor": "#2a3f5f",
           "arrowhead": 0,
           "arrowwidth": 1
          },
          "autotypenumbers": "strict",
          "coloraxis": {
           "colorbar": {
            "outlinewidth": 0,
            "ticks": ""
           }
          },
          "colorscale": {
           "diverging": [
            [
             0,
             "#8e0152"
            ],
            [
             0.1,
             "#c51b7d"
            ],
            [
             0.2,
             "#de77ae"
            ],
            [
             0.3,
             "#f1b6da"
            ],
            [
             0.4,
             "#fde0ef"
            ],
            [
             0.5,
             "#f7f7f7"
            ],
            [
             0.6,
             "#e6f5d0"
            ],
            [
             0.7,
             "#b8e186"
            ],
            [
             0.8,
             "#7fbc41"
            ],
            [
             0.9,
             "#4d9221"
            ],
            [
             1,
             "#276419"
            ]
           ],
           "sequential": [
            [
             0,
             "#0d0887"
            ],
            [
             0.1111111111111111,
             "#46039f"
            ],
            [
             0.2222222222222222,
             "#7201a8"
            ],
            [
             0.3333333333333333,
             "#9c179e"
            ],
            [
             0.4444444444444444,
             "#bd3786"
            ],
            [
             0.5555555555555556,
             "#d8576b"
            ],
            [
             0.6666666666666666,
             "#ed7953"
            ],
            [
             0.7777777777777778,
             "#fb9f3a"
            ],
            [
             0.8888888888888888,
             "#fdca26"
            ],
            [
             1,
             "#f0f921"
            ]
           ],
           "sequentialminus": [
            [
             0,
             "#0d0887"
            ],
            [
             0.1111111111111111,
             "#46039f"
            ],
            [
             0.2222222222222222,
             "#7201a8"
            ],
            [
             0.3333333333333333,
             "#9c179e"
            ],
            [
             0.4444444444444444,
             "#bd3786"
            ],
            [
             0.5555555555555556,
             "#d8576b"
            ],
            [
             0.6666666666666666,
             "#ed7953"
            ],
            [
             0.7777777777777778,
             "#fb9f3a"
            ],
            [
             0.8888888888888888,
             "#fdca26"
            ],
            [
             1,
             "#f0f921"
            ]
           ]
          },
          "colorway": [
           "#636efa",
           "#EF553B",
           "#00cc96",
           "#ab63fa",
           "#FFA15A",
           "#19d3f3",
           "#FF6692",
           "#B6E880",
           "#FF97FF",
           "#FECB52"
          ],
          "font": {
           "color": "#2a3f5f"
          },
          "geo": {
           "bgcolor": "white",
           "lakecolor": "white",
           "landcolor": "#E5ECF6",
           "showlakes": true,
           "showland": true,
           "subunitcolor": "white"
          },
          "hoverlabel": {
           "align": "left"
          },
          "hovermode": "closest",
          "mapbox": {
           "style": "light"
          },
          "paper_bgcolor": "white",
          "plot_bgcolor": "#E5ECF6",
          "polar": {
           "angularaxis": {
            "gridcolor": "white",
            "linecolor": "white",
            "ticks": ""
           },
           "bgcolor": "#E5ECF6",
           "radialaxis": {
            "gridcolor": "white",
            "linecolor": "white",
            "ticks": ""
           }
          },
          "scene": {
           "xaxis": {
            "backgroundcolor": "#E5ECF6",
            "gridcolor": "white",
            "gridwidth": 2,
            "linecolor": "white",
            "showbackground": true,
            "ticks": "",
            "zerolinecolor": "white"
           },
           "yaxis": {
            "backgroundcolor": "#E5ECF6",
            "gridcolor": "white",
            "gridwidth": 2,
            "linecolor": "white",
            "showbackground": true,
            "ticks": "",
            "zerolinecolor": "white"
           },
           "zaxis": {
            "backgroundcolor": "#E5ECF6",
            "gridcolor": "white",
            "gridwidth": 2,
            "linecolor": "white",
            "showbackground": true,
            "ticks": "",
            "zerolinecolor": "white"
           }
          },
          "shapedefaults": {
           "line": {
            "color": "#2a3f5f"
           }
          },
          "ternary": {
           "aaxis": {
            "gridcolor": "white",
            "linecolor": "white",
            "ticks": ""
           },
           "baxis": {
            "gridcolor": "white",
            "linecolor": "white",
            "ticks": ""
           },
           "bgcolor": "#E5ECF6",
           "caxis": {
            "gridcolor": "white",
            "linecolor": "white",
            "ticks": ""
           }
          },
          "title": {
           "x": 0.05
          },
          "xaxis": {
           "automargin": true,
           "gridcolor": "white",
           "linecolor": "white",
           "ticks": "",
           "title": {
            "standoff": 15
           },
           "zerolinecolor": "white",
           "zerolinewidth": 2
          },
          "yaxis": {
           "automargin": true,
           "gridcolor": "white",
           "linecolor": "white",
           "ticks": "",
           "title": {
            "standoff": 15
           },
           "zerolinecolor": "white",
           "zerolinewidth": 2
          }
         }
        }
       }
      }
     },
     "metadata": {},
     "output_type": "display_data"
    }
   ],
   "source": [
    "fig = go.Figure(data=[go.Surface(z=df_diff.values,y=df_diff.index, x = df_diff.columns)]).show()"
   ]
  },
  {
   "cell_type": "markdown",
   "metadata": {},
   "source": [
    "**Ce qu'on cherche à optimiser ici est la nap de BS et non la nap de vol local. Il existe Thin Plate Splines qui permet en partie de résoudre ce pb.**"
   ]
  },
  {
   "cell_type": "markdown",
   "metadata": {},
   "source": [
    "Par exemple on à fait des cubic splines sur le strike ainsi il passe par tous les points connus. ce qu'on peut faire appliqué à mes splines la meme logique que la méthode des moindres carré.  \n",
    "Ainsi pour un smile donnée (une tranche de maturité) j'ai : $\\min \\limits_{\\sigma(T,S) \\in S}\\sum\\limits_{i=1}^{N}(C^{Obs}_{i,j}-C^{\\sigma(t,s)}_{i,j})^2$\n",
    "\n",
    "on a pas de solution unique mais alors comment faire ?\n",
    "Pour cela on va imposer une pénalité:  \n",
    "$\\min \\limits_{\\sigma(T,S) \\in S}\\sum\\limits_{i=1}^{N}(C^{Obs}_{i,j}-C^{\\sigma(t,s)}_{i,j})^2 + \\lambda \\int_{0}^{\\infty} (\\frac{\\partial^2\\sigma(T,K)}{\\partial K^2})dK$\n",
    "\n",
    "Ainsi cette équation se split en 2:\n",
    "- la première partie réprésente l'écart avec les prix observés\n",
    "- la 2nd partie correspond quel point ma nap est smooth  \n",
    "\n",
    "Lambda représente a quel point je sacrifie ma fidélèté au data pour le smoothness de ma nap de vol\n",
    "\n",
    "Ainsi je smooth mon cubic spline, j'ai fait du natural cubic spline car la dérivés de mes end points sont 0"
   ]
  },
  {
   "cell_type": "markdown",
   "metadata": {},
   "source": [
    "Le processus suivit est actuellement pour un smile je dois donc le réalisé pour l'ensemble des smiles  \n",
    "$\\min \\limits_{\\sigma(T,S) \\in S}\\color{red}\\sum\\limits_{i=1}^{N}\\color{default}\\sum\\limits_{i=1}^{M}(C^{Obs}_{i,j}-C^{\\sigma(t,s)}_{i,j})^2$\n",
    "\n",
    "Actuellement tous les écarts entre prix calculé et observé et pondéré de la même manière mais si je veux fitter à un endroit ou alors je pense que certaine donnée sont fausse je peux introduire de la pondération. Selon moi, on préfère bien fitté ATM, 30j plus tot que 30%,10Y.  \n",
    "$\\min \\limits_{\\sigma(T,S) \\in S}\\sum\\limits_{i=1}^{N}\\sum\\limits_{i=1}^{M}\\color{red}w_{i,j}\\color{default}(C^{Obs}_{i,j}-C^{\\sigma(t,s)}_{i,j})^2$  \n",
    "\n",
    "Je réintegre la pénalité mais cette fois en 3d  \n",
    "$\\min \\limits_{\\sigma(T,S) \\in S}\\sum\\limits_{i=1}^{N}\\sum\\limits_{i=1}^{M}w_{i,j}(C^{Obs}_{i,j}-C^{\\sigma(t,s)}_{i,j})^2 + \\lambda \\lVert L\\sigma \\rVert^2_2$ avec $L = \\frac{\\partial^2}{\\partial K^2}$ et $L = \\frac{\\partial^2}{\\partial K^2} + 2\\frac{\\partial^2}{\\partial K\\partial T} + \\frac{\\partial^2}{\\partial T^2}$ si on est en 2D."
   ]
  },
  {
   "cell_type": "markdown",
   "metadata": {},
   "source": [
    "15min30 dans la vidéo mais j'ai pas tout compris askip dans notre car le meilleur L est $L =\\frac{\\partial^2}{\\partial K^2} + \\frac{\\partial}{\\partial T}$"
   ]
  },
  {
   "cell_type": "markdown",
   "metadata": {},
   "source": [
    "## Variation Calculus"
   ]
  },
  {
   "cell_type": "markdown",
   "metadata": {},
   "source": [
    "C'est comme le normal Calculus sauf que ma fonction n'est pas x,y mais une fonction de fonction. Ainsi on recherche une fonction qui minimise mes fonctions. exemple : Euler Lagrange Equation et Integral of the First Kind :  \n",
    "$g(t) = \\int_{a}^{b} K(t,s)f(s)ds$ résoudre cette intégrale revient a faire $g = K \\cdot f$ qui est un système d'équation linéaire"
   ]
  },
  {
   "cell_type": "markdown",
   "metadata": {},
   "source": [
    "least square qu'on connais est :  \n",
    "$\\min \\limits_{b} \\sum \\limits_{i=1}^N (y_i - bx_i)^2$  \n",
    "en Variation Calculs:  \n",
    "$\\min \\limits_{\\beta \\in R^n} \\lVert y - X\\beta \\rVert^2_2$ avec $\\beta = (X'X)^{-1}X'y$  \n",
    "\n",
    "je rajoute ma contrainte:  \n",
    "$\\min \\limits_{\\beta \\in R^n} \\lVert y - X\\beta \\rVert^2_2 + \\lambda \\lVert L\\beta \\rVert^2_2$ ainsi $\\beta = (X'X + \\lambda L'L)^{-1}X'y$  \n",
    "\n",
    "J'ai peux résoudre simplement et betement en calculant l'inverse et multipliant mes matrices mais il existe des méthodes plus efficace comme par décompostion tel que SVD (single value deconposition) mais ici faut que j'utilise le généralise SVD"
   ]
  },
  {
   "cell_type": "markdown",
   "metadata": {},
   "source": [
    "Il faut aussi fitté le $L$. Si on a chosit $L = \\frac{\\partial^2}{\\partial K^2}$ alors on doit résoudre:  \n",
    "\\begin{align*}\n",
    "\\begin{bmatrix}\n",
    "\\color{red}1 & \\color{red}-2 & \\color{red}1 & 0 & \\cdots & 0 \\\\\n",
    "0 & 1 & -2 & 1 & \\cdots & 0 \\\\\n",
    "0 & 0 & 1 & -2 & \\cdots & 0 \\\\\n",
    "\\vdots & \\vdots & \\vdots & \\vdots & \\ddots & \\vdots \\\\\n",
    "0 & 0 & 0 & 0 & \\cdots & 1 \\\\\n",
    "\\end{bmatrix}\n",
    "&\n",
    "\\begin{bmatrix}\n",
    "\\color{red}\\sigma_0 \\\\\n",
    "\\color{red}\\sigma_1 \\\\\n",
    "\\color{red}\\sigma_2 \\\\\n",
    "\\vdots \\\\\n",
    "\\sigma_{n-1} \\\\\n",
    "\\sigma_n\n",
    "\\end{bmatrix}\n",
    "&= \n",
    "\\begin{bmatrix}\n",
    "\\color{red}\\sigma_0 - 2\\sigma_1 + \\sigma_2 \\\\\n",
    "\\sigma_1 - 2\\sigma_2 + \\sigma_3 \\\\\n",
    "\\vdots \\\\\n",
    "\\sigma_{n-2} - 2\\sigma_{n-1} + \\sigma_{n}\n",
    "\\end{bmatrix}\n",
    "\\end{align*}  \n",
    "\n",
    "il faut ensuite diviser le résultat par le changement de $K$ au carré. La deuxieme matrice fait $(N+1)$ (de 0 à n). La matrice résult fait $(n-1)$. Ainsi ma première matrice fait $(n-1)*(n+1)$. Dans le beta comme je fait la matrice multiplé par sa transposé ça devriendra une matrice carrré de $(n+1)$. Si comme pour les cubics spline je veux spécifier mes dériviés secondes à mes ends points je peux rajouter 2 lignes à ma première matrice.  "
   ]
  },
  {
   "cell_type": "markdown",
   "metadata": {},
   "source": [
    "Si je prends $L = \\frac{\\partial}{\\partial K}$:  \n",
    "\\begin{align*}\n",
    "\\begin{bmatrix}\n",
    "-1 & 1 & 0 & \\cdots & 0 \\\\\n",
    "0 & -1 & 1 & \\cdots & 0 \\\\\n",
    "0 & 0 & -1 &  \\cdots & 0 \\\\\n",
    "\\vdots & \\vdots & \\vdots & \\ddots & \\vdots \\\\\n",
    "0 & 0 & 0 & \\cdots & 1 \\\\\n",
    "\\end{bmatrix}\n",
    "&\n",
    "\\begin{bmatrix}\n",
    "\\sigma_0 \\\\\n",
    "\\sigma_1 \\\\\n",
    "\\sigma_2 \\\\\n",
    "\\vdots \\\\\n",
    "\\sigma_{n-1} \\\\\n",
    "\\sigma_n\n",
    "\\end{bmatrix}\n",
    "&= \n",
    "\\begin{bmatrix}\n",
    "\\sigma_1 - \\sigma_0 \\\\\n",
    "\\sigma_2 - \\sigma_1 \\\\\n",
    "\\vdots \\\\\n",
    "\\sigma_{n} - \\sigma_{n-1} \n",
    "\\end{bmatrix}\n",
    "\\end{align*}  "
   ]
  },
  {
   "cell_type": "markdown",
   "metadata": {},
   "source": [
    "25min\n",
    "Jusqu'a maintenant on supposé qu'on connaissait $\\lambda$ mais on ne le connait pas. il esxite plusieurs moyen de le définir : \n",
    "- Discrepancy Principle\n",
    "- L-Curve criteria\n",
    "- Genrealised Cross Validation (pas sur qu'il soit bon car enlève les valeurs extremes)"
   ]
  },
  {
   "cell_type": "markdown",
   "metadata": {},
   "source": []
  }
 ],
 "metadata": {
  "kernelspec": {
   "display_name": "base",
   "language": "python",
   "name": "python3"
  },
  "language_info": {
   "codemirror_mode": {
    "name": "ipython",
    "version": 3
   },
   "file_extension": ".py",
   "mimetype": "text/x-python",
   "name": "python",
   "nbconvert_exporter": "python",
   "pygments_lexer": "ipython3",
   "version": "3.10.1"
  }
 },
 "nbformat": 4,
 "nbformat_minor": 2
}
